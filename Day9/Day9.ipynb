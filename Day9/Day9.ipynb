{
 "cells": [
  {
   "cell_type": "code",
   "execution_count": 1,
   "id": "06a9f5f1-c522-4d4d-ada9-aab980e6a629",
   "metadata": {},
   "outputs": [],
   "source": [
    "import pandas as pd\n",
    "from tqdm import tqdm"
   ]
  },
  {
   "cell_type": "code",
   "execution_count": 2,
   "id": "d71c2cda-9610-4190-bac6-d76bcb04067c",
   "metadata": {},
   "outputs": [
    {
     "data": {
      "text/html": [
       "<div>\n",
       "<style scoped>\n",
       "    .dataframe tbody tr th:only-of-type {\n",
       "        vertical-align: middle;\n",
       "    }\n",
       "\n",
       "    .dataframe tbody tr th {\n",
       "        vertical-align: top;\n",
       "    }\n",
       "\n",
       "    .dataframe thead th {\n",
       "        text-align: right;\n",
       "    }\n",
       "</style>\n",
       "<table border=\"1\" class=\"dataframe\">\n",
       "  <thead>\n",
       "    <tr style=\"text-align: right;\">\n",
       "      <th></th>\n",
       "      <th>0</th>\n",
       "    </tr>\n",
       "  </thead>\n",
       "  <tbody>\n",
       "    <tr>\n",
       "      <th>0</th>\n",
       "      <td>-1 -3 -3 6 51 200 589 1453 3159 6239 11421 196...</td>\n",
       "    </tr>\n",
       "    <tr>\n",
       "      <th>1</th>\n",
       "      <td>17 31 45 59 73 87 101 115 129 143 157 171 185 ...</td>\n",
       "    </tr>\n",
       "    <tr>\n",
       "      <th>2</th>\n",
       "      <td>1 15 42 97 219 479 997 1980 3789 7041 12757 22...</td>\n",
       "    </tr>\n",
       "    <tr>\n",
       "      <th>3</th>\n",
       "      <td>-4 -9 -3 39 161 434 975 1982 3785 6905 12100 2...</td>\n",
       "    </tr>\n",
       "    <tr>\n",
       "      <th>4</th>\n",
       "      <td>11 18 19 10 -13 -54 -117 -206 -325 -478 -669 -...</td>\n",
       "    </tr>\n",
       "    <tr>\n",
       "      <th>...</th>\n",
       "      <td>...</td>\n",
       "    </tr>\n",
       "    <tr>\n",
       "      <th>195</th>\n",
       "      <td>-5 -2 7 22 43 70 103 142 187 238 295 358 427 5...</td>\n",
       "    </tr>\n",
       "    <tr>\n",
       "      <th>196</th>\n",
       "      <td>14 36 66 114 213 441 961 2083 4352 8666 16428 ...</td>\n",
       "    </tr>\n",
       "    <tr>\n",
       "      <th>197</th>\n",
       "      <td>15 27 37 48 76 176 480 1240 2874 6032 11732 21...</td>\n",
       "    </tr>\n",
       "    <tr>\n",
       "      <th>198</th>\n",
       "      <td>13 17 13 -3 -40 -102 -164 -123 310 1846 6098 1...</td>\n",
       "    </tr>\n",
       "    <tr>\n",
       "      <th>199</th>\n",
       "      <td>3 8 16 23 24 22 50 207 716 2044 5199 12460 290...</td>\n",
       "    </tr>\n",
       "  </tbody>\n",
       "</table>\n",
       "<p>200 rows × 1 columns</p>\n",
       "</div>"
      ],
      "text/plain": [
       "                                                     0\n",
       "0    -1 -3 -3 6 51 200 589 1453 3159 6239 11421 196...\n",
       "1    17 31 45 59 73 87 101 115 129 143 157 171 185 ...\n",
       "2    1 15 42 97 219 479 997 1980 3789 7041 12757 22...\n",
       "3    -4 -9 -3 39 161 434 975 1982 3785 6905 12100 2...\n",
       "4    11 18 19 10 -13 -54 -117 -206 -325 -478 -669 -...\n",
       "..                                                 ...\n",
       "195  -5 -2 7 22 43 70 103 142 187 238 295 358 427 5...\n",
       "196  14 36 66 114 213 441 961 2083 4352 8666 16428 ...\n",
       "197  15 27 37 48 76 176 480 1240 2874 6032 11732 21...\n",
       "198  13 17 13 -3 -40 -102 -164 -123 310 1846 6098 1...\n",
       "199  3 8 16 23 24 22 50 207 716 2044 5199 12460 290...\n",
       "\n",
       "[200 rows x 1 columns]"
      ]
     },
     "execution_count": 2,
     "metadata": {},
     "output_type": "execute_result"
    }
   ],
   "source": [
    "df = pd.read_csv(\"Day9.txt\", header=None)\n",
    "df"
   ]
  },
  {
   "cell_type": "code",
   "execution_count": 3,
   "id": "86d550e7-e4e0-4766-8fdc-8a058f7301d3",
   "metadata": {},
   "outputs": [],
   "source": [
    "# fonction de réduction de ligne\n",
    "def transform_line(line):\n",
    "    new_line = [line[idx+1] - line[idx] for idx in range(len(line)-1)]\n",
    "    return new_line"
   ]
  },
  {
   "cell_type": "code",
   "execution_count": 4,
   "id": "011699ac-6e96-4190-9341-0c7d56c2eb95",
   "metadata": {},
   "outputs": [],
   "source": [
    "# fonction d'addition de valeur à une ligne\n",
    "def add_value(line1,line2):\n",
    "    line_processed = line2\n",
    "    line_processed.append(line_processed[-1] + line1[-1])\n",
    "    return line_processed"
   ]
  },
  {
   "cell_type": "code",
   "execution_count": 5,
   "id": "c689e0d0-c066-4228-971a-8cf4fa510433",
   "metadata": {},
   "outputs": [
    {
     "name": "stderr",
     "output_type": "stream",
     "text": [
      "100%|█████████████████████████████████████████████████████████████████████████████| 200/200 [00:00<00:00, 39917.24it/s]\n"
     ]
    }
   ],
   "source": [
    "# pour chaque ligne du df\n",
    "list_last_value = []\n",
    "for idx in tqdm(df.index):\n",
    "    #transformer le contenu de la cellule en liste d'entiers\n",
    "    line = df.at[idx,0].split()\n",
    "    line = [int(x) for x in line]\n",
    "    line\n",
    "    \n",
    "    #récupérer la pyramide à partir de la ligne\n",
    "    pyramide = [line]\n",
    "    max_len_pyramide = len(line)\n",
    "    for i in range(0,max_len_pyramide):\n",
    "        new_line = transform_line(line)\n",
    "        pyramide.append(new_line)\n",
    "        line = new_line\n",
    "        if set(new_line) != {0}:        \n",
    "            continue\n",
    "        else:\n",
    "            break\n",
    "    pyramide = pyramide[::-1]\n",
    "    pyramide\n",
    "\n",
    "    # récupérer la valeur ajoutée à partir d'une pyramide\n",
    "    line_init = [1,0]\n",
    "\n",
    "    for idx in range(len(pyramide)-1):\n",
    "        #print('lines[idx+1] ',pyramide[idx+1])\n",
    "        line_init = add_value(line_init,pyramide[idx+1])\n",
    "        #print('idx : ',idx,' line_init : ',line_init)\n",
    "        \n",
    "    # enregistrer cette valeur dans une liste\n",
    "    list_last_value.append(line_init[-1])    "
   ]
  },
  {
   "cell_type": "code",
   "execution_count": 6,
   "id": "8a56a101-bfb9-42b7-82d3-8514c3ad6e17",
   "metadata": {},
   "outputs": [
    {
     "data": {
      "text/plain": [
       "1696140818"
      ]
     },
     "execution_count": 6,
     "metadata": {},
     "output_type": "execute_result"
    }
   ],
   "source": [
    "# Sommer les valeurs de la liste\n",
    "sum(list_last_value)"
   ]
  }
 ],
 "metadata": {
  "kernelspec": {
   "display_name": "Python 3 (ipykernel)",
   "language": "python",
   "name": "python3"
  },
  "language_info": {
   "codemirror_mode": {
    "name": "ipython",
    "version": 3
   },
   "file_extension": ".py",
   "mimetype": "text/x-python",
   "name": "python",
   "nbconvert_exporter": "python",
   "pygments_lexer": "ipython3",
   "version": "3.9.13"
  }
 },
 "nbformat": 4,
 "nbformat_minor": 5
}
