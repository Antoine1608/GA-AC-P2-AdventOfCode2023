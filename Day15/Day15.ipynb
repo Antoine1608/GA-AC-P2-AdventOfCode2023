{
 "cells": [
  {
   "cell_type": "code",
   "execution_count": 1,
   "id": "6e4ca9bb-3927-4b19-912d-56f8d04c512b",
   "metadata": {},
   "outputs": [],
   "source": [
    "import pandas as pd\n",
    "import ast"
   ]
  },
  {
   "cell_type": "code",
   "execution_count": 2,
   "id": "e02f5203-4e1d-4ce0-9ab4-180158251897",
   "metadata": {},
   "outputs": [
    {
     "data": {
      "text/html": [
       "<div>\n",
       "<style scoped>\n",
       "    .dataframe tbody tr th:only-of-type {\n",
       "        vertical-align: middle;\n",
       "    }\n",
       "\n",
       "    .dataframe tbody tr th {\n",
       "        vertical-align: top;\n",
       "    }\n",
       "\n",
       "    .dataframe thead th {\n",
       "        text-align: right;\n",
       "    }\n",
       "</style>\n",
       "<table border=\"1\" class=\"dataframe\">\n",
       "  <thead>\n",
       "    <tr style=\"text-align: right;\">\n",
       "      <th></th>\n",
       "      <th>0</th>\n",
       "      <th>1</th>\n",
       "      <th>2</th>\n",
       "      <th>3</th>\n",
       "      <th>4</th>\n",
       "      <th>5</th>\n",
       "      <th>6</th>\n",
       "      <th>7</th>\n",
       "      <th>8</th>\n",
       "      <th>9</th>\n",
       "      <th>...</th>\n",
       "      <th>3990</th>\n",
       "      <th>3991</th>\n",
       "      <th>3992</th>\n",
       "      <th>3993</th>\n",
       "      <th>3994</th>\n",
       "      <th>3995</th>\n",
       "      <th>3996</th>\n",
       "      <th>3997</th>\n",
       "      <th>3998</th>\n",
       "      <th>3999</th>\n",
       "    </tr>\n",
       "  </thead>\n",
       "  <tbody>\n",
       "    <tr>\n",
       "      <th>0</th>\n",
       "      <td>gt-</td>\n",
       "      <td>kdn=7</td>\n",
       "      <td>dzc-</td>\n",
       "      <td>rcdg=4</td>\n",
       "      <td>fvhz-</td>\n",
       "      <td>fjkx=1</td>\n",
       "      <td>bfx-</td>\n",
       "      <td>ntl=1</td>\n",
       "      <td>kll-</td>\n",
       "      <td>nngd=9</td>\n",
       "      <td>...</td>\n",
       "      <td>pcr-</td>\n",
       "      <td>lpl=6</td>\n",
       "      <td>cgq=5</td>\n",
       "      <td>rsxcb-</td>\n",
       "      <td>qrjvc-</td>\n",
       "      <td>bp-</td>\n",
       "      <td>kjr-</td>\n",
       "      <td>sthr-</td>\n",
       "      <td>qz-</td>\n",
       "      <td>vm=2</td>\n",
       "    </tr>\n",
       "  </tbody>\n",
       "</table>\n",
       "<p>1 rows × 4000 columns</p>\n",
       "</div>"
      ],
      "text/plain": [
       "  0      1     2       3      4       5     6      7     8       9     ...  \\\n",
       "0  gt-  kdn=7  dzc-  rcdg=4  fvhz-  fjkx=1  bfx-  ntl=1  kll-  nngd=9  ...   \n",
       "\n",
       "   3990   3991   3992    3993    3994 3995  3996   3997 3998  3999  \n",
       "0  pcr-  lpl=6  cgq=5  rsxcb-  qrjvc-  bp-  kjr-  sthr-  qz-  vm=2  \n",
       "\n",
       "[1 rows x 4000 columns]"
      ]
     },
     "execution_count": 2,
     "metadata": {},
     "output_type": "execute_result"
    }
   ],
   "source": [
    "df = pd.read_csv(\"Day15.txt\",header=None,sep=',')\n",
    "df"
   ]
  },
  {
   "cell_type": "code",
   "execution_count": 3,
   "id": "61739a1c-ab79-4d2b-86d9-4be121654caf",
   "metadata": {},
   "outputs": [
    {
     "data": {
      "text/html": [
       "<div>\n",
       "<style scoped>\n",
       "    .dataframe tbody tr th:only-of-type {\n",
       "        vertical-align: middle;\n",
       "    }\n",
       "\n",
       "    .dataframe tbody tr th {\n",
       "        vertical-align: top;\n",
       "    }\n",
       "\n",
       "    .dataframe thead th {\n",
       "        text-align: right;\n",
       "    }\n",
       "</style>\n",
       "<table border=\"1\" class=\"dataframe\">\n",
       "  <thead>\n",
       "    <tr style=\"text-align: right;\">\n",
       "      <th></th>\n",
       "      <th>0</th>\n",
       "    </tr>\n",
       "  </thead>\n",
       "  <tbody>\n",
       "    <tr>\n",
       "      <th>0</th>\n",
       "      <td>gt-</td>\n",
       "    </tr>\n",
       "    <tr>\n",
       "      <th>1</th>\n",
       "      <td>kdn=7</td>\n",
       "    </tr>\n",
       "    <tr>\n",
       "      <th>2</th>\n",
       "      <td>dzc-</td>\n",
       "    </tr>\n",
       "    <tr>\n",
       "      <th>3</th>\n",
       "      <td>rcdg=4</td>\n",
       "    </tr>\n",
       "    <tr>\n",
       "      <th>4</th>\n",
       "      <td>fvhz-</td>\n",
       "    </tr>\n",
       "    <tr>\n",
       "      <th>...</th>\n",
       "      <td>...</td>\n",
       "    </tr>\n",
       "    <tr>\n",
       "      <th>3995</th>\n",
       "      <td>bp-</td>\n",
       "    </tr>\n",
       "    <tr>\n",
       "      <th>3996</th>\n",
       "      <td>kjr-</td>\n",
       "    </tr>\n",
       "    <tr>\n",
       "      <th>3997</th>\n",
       "      <td>sthr-</td>\n",
       "    </tr>\n",
       "    <tr>\n",
       "      <th>3998</th>\n",
       "      <td>qz-</td>\n",
       "    </tr>\n",
       "    <tr>\n",
       "      <th>3999</th>\n",
       "      <td>vm=2</td>\n",
       "    </tr>\n",
       "  </tbody>\n",
       "</table>\n",
       "<p>4000 rows × 1 columns</p>\n",
       "</div>"
      ],
      "text/plain": [
       "           0\n",
       "0        gt-\n",
       "1      kdn=7\n",
       "2       dzc-\n",
       "3     rcdg=4\n",
       "4      fvhz-\n",
       "...      ...\n",
       "3995     bp-\n",
       "3996    kjr-\n",
       "3997   sthr-\n",
       "3998     qz-\n",
       "3999    vm=2\n",
       "\n",
       "[4000 rows x 1 columns]"
      ]
     },
     "execution_count": 3,
     "metadata": {},
     "output_type": "execute_result"
    }
   ],
   "source": [
    "df = df.T\n",
    "df"
   ]
  },
  {
   "cell_type": "code",
   "execution_count": 4,
   "id": "eb13b31a-94ba-419b-b93f-d6956a1b90b4",
   "metadata": {},
   "outputs": [
    {
     "data": {
      "text/html": [
       "<div>\n",
       "<style scoped>\n",
       "    .dataframe tbody tr th:only-of-type {\n",
       "        vertical-align: middle;\n",
       "    }\n",
       "\n",
       "    .dataframe tbody tr th {\n",
       "        vertical-align: top;\n",
       "    }\n",
       "\n",
       "    .dataframe thead th {\n",
       "        text-align: right;\n",
       "    }\n",
       "</style>\n",
       "<table border=\"1\" class=\"dataframe\">\n",
       "  <thead>\n",
       "    <tr style=\"text-align: right;\">\n",
       "      <th></th>\n",
       "      <th>0</th>\n",
       "    </tr>\n",
       "  </thead>\n",
       "  <tbody>\n",
       "    <tr>\n",
       "      <th>0</th>\n",
       "      <td>[g, t, -]</td>\n",
       "    </tr>\n",
       "    <tr>\n",
       "      <th>1</th>\n",
       "      <td>[k, d, n, =, 7]</td>\n",
       "    </tr>\n",
       "    <tr>\n",
       "      <th>2</th>\n",
       "      <td>[d, z, c, -]</td>\n",
       "    </tr>\n",
       "    <tr>\n",
       "      <th>3</th>\n",
       "      <td>[r, c, d, g, =, 4]</td>\n",
       "    </tr>\n",
       "    <tr>\n",
       "      <th>4</th>\n",
       "      <td>[f, v, h, z, -]</td>\n",
       "    </tr>\n",
       "    <tr>\n",
       "      <th>...</th>\n",
       "      <td>...</td>\n",
       "    </tr>\n",
       "    <tr>\n",
       "      <th>3995</th>\n",
       "      <td>[b, p, -]</td>\n",
       "    </tr>\n",
       "    <tr>\n",
       "      <th>3996</th>\n",
       "      <td>[k, j, r, -]</td>\n",
       "    </tr>\n",
       "    <tr>\n",
       "      <th>3997</th>\n",
       "      <td>[s, t, h, r, -]</td>\n",
       "    </tr>\n",
       "    <tr>\n",
       "      <th>3998</th>\n",
       "      <td>[q, z, -]</td>\n",
       "    </tr>\n",
       "    <tr>\n",
       "      <th>3999</th>\n",
       "      <td>[v, m, =, 2]</td>\n",
       "    </tr>\n",
       "  </tbody>\n",
       "</table>\n",
       "<p>4000 rows × 1 columns</p>\n",
       "</div>"
      ],
      "text/plain": [
       "                       0\n",
       "0              [g, t, -]\n",
       "1        [k, d, n, =, 7]\n",
       "2           [d, z, c, -]\n",
       "3     [r, c, d, g, =, 4]\n",
       "4        [f, v, h, z, -]\n",
       "...                  ...\n",
       "3995           [b, p, -]\n",
       "3996        [k, j, r, -]\n",
       "3997     [s, t, h, r, -]\n",
       "3998           [q, z, -]\n",
       "3999        [v, m, =, 2]\n",
       "\n",
       "[4000 rows x 1 columns]"
      ]
     },
     "execution_count": 4,
     "metadata": {},
     "output_type": "execute_result"
    }
   ],
   "source": [
    "df.iloc[:,0] =list(map(lambda x : list(x),df.iloc[:,0]))\n",
    "df"
   ]
  },
  {
   "cell_type": "code",
   "execution_count": 5,
   "id": "8ffa4d5c-b915-4fcb-bb39-1a2411a922c3",
   "metadata": {},
   "outputs": [],
   "source": [
    "def hash_algo(liste):\n",
    "    current_value = 0\n",
    "    result = 0\n",
    "    for idx in range(len(liste)):\n",
    "        valeur_ascii = ord(liste[idx])\n",
    "        #print(liste[idx], ' : ',valeur_ascii)\n",
    "        current_value += valeur_ascii\n",
    "        current_value *= 17\n",
    "        current_value = current_value%256\n",
    "        \n",
    "    return current_value   "
   ]
  },
  {
   "cell_type": "code",
   "execution_count": 6,
   "id": "25e4ca45-f88b-473a-b4c9-dcb84de1d214",
   "metadata": {},
   "outputs": [
    {
     "data": {
      "text/plain": [
       "168"
      ]
     },
     "execution_count": 6,
     "metadata": {},
     "output_type": "execute_result"
    }
   ],
   "source": [
    "liste = list(df.at[0,0])\n",
    "hash_algo(liste)"
   ]
  },
  {
   "cell_type": "code",
   "execution_count": 7,
   "id": "e99a14eb-df7e-4a99-b009-2d71e5f4a9ee",
   "metadata": {},
   "outputs": [
    {
     "data": {
      "text/plain": [
       "513214"
      ]
     },
     "execution_count": 7,
     "metadata": {},
     "output_type": "execute_result"
    }
   ],
   "source": [
    "result = 0\n",
    "for idx in range(len(df)):\n",
    "    result += hash_algo(df.at[idx,0])\n",
    "result\n",
    "    "
   ]
  }
 ],
 "metadata": {
  "kernelspec": {
   "display_name": "Python 3 (ipykernel)",
   "language": "python",
   "name": "python3"
  },
  "language_info": {
   "codemirror_mode": {
    "name": "ipython",
    "version": 3
   },
   "file_extension": ".py",
   "mimetype": "text/x-python",
   "name": "python",
   "nbconvert_exporter": "python",
   "pygments_lexer": "ipython3",
   "version": "3.9.13"
  }
 },
 "nbformat": 4,
 "nbformat_minor": 5
}
