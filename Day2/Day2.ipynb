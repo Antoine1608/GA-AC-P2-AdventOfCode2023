{
 "cells": [
  {
   "cell_type": "code",
   "execution_count": 1,
   "id": "b0ba1c67-601d-4322-b880-777ae0a45a3a",
   "metadata": {},
   "outputs": [],
   "source": [
    "import pandas as pd\n",
    "from nltk.tokenize import RegexpTokenizer"
   ]
  },
  {
   "cell_type": "code",
   "execution_count": 2,
   "id": "db71ceaa-4b28-4fba-9728-cca54306c0ec",
   "metadata": {},
   "outputs": [
    {
     "data": {
      "text/html": [
       "<div>\n",
       "<style scoped>\n",
       "    .dataframe tbody tr th:only-of-type {\n",
       "        vertical-align: middle;\n",
       "    }\n",
       "\n",
       "    .dataframe tbody tr th {\n",
       "        vertical-align: top;\n",
       "    }\n",
       "\n",
       "    .dataframe thead th {\n",
       "        text-align: right;\n",
       "    }\n",
       "</style>\n",
       "<table border=\"1\" class=\"dataframe\">\n",
       "  <thead>\n",
       "    <tr style=\"text-align: right;\">\n",
       "      <th></th>\n",
       "      <th>0</th>\n",
       "      <th>1</th>\n",
       "    </tr>\n",
       "  </thead>\n",
       "  <tbody>\n",
       "    <tr>\n",
       "      <th>0</th>\n",
       "      <td>Game 1</td>\n",
       "      <td>3 blue, 7 green, 10 red; 4 green, 4 red; 1 gr...</td>\n",
       "    </tr>\n",
       "    <tr>\n",
       "      <th>1</th>\n",
       "      <td>Game 2</td>\n",
       "      <td>6 red, 10 green; 11 green, 4 red; 16 green, 2...</td>\n",
       "    </tr>\n",
       "    <tr>\n",
       "      <th>2</th>\n",
       "      <td>Game 3</td>\n",
       "      <td>5 red, 9 blue, 1 green; 5 red; 11 red, 2 gree...</td>\n",
       "    </tr>\n",
       "    <tr>\n",
       "      <th>3</th>\n",
       "      <td>Game 4</td>\n",
       "      <td>2 red, 5 green; 2 blue, 3 red, 3 green; 3 red...</td>\n",
       "    </tr>\n",
       "    <tr>\n",
       "      <th>4</th>\n",
       "      <td>Game 5</td>\n",
       "      <td>12 red, 13 blue; 13 blue, 2 green, 9 red; 9 b...</td>\n",
       "    </tr>\n",
       "  </tbody>\n",
       "</table>\n",
       "</div>"
      ],
      "text/plain": [
       "        0                                                  1\n",
       "0  Game 1   3 blue, 7 green, 10 red; 4 green, 4 red; 1 gr...\n",
       "1  Game 2   6 red, 10 green; 11 green, 4 red; 16 green, 2...\n",
       "2  Game 3   5 red, 9 blue, 1 green; 5 red; 11 red, 2 gree...\n",
       "3  Game 4   2 red, 5 green; 2 blue, 3 red, 3 green; 3 red...\n",
       "4  Game 5   12 red, 13 blue; 13 blue, 2 green, 9 red; 9 b..."
      ]
     },
     "execution_count": 2,
     "metadata": {},
     "output_type": "execute_result"
    }
   ],
   "source": [
    "df = pd.read_csv('Day2.txt', sep=':',header=None)\n",
    "df.head()"
   ]
  },
  {
   "cell_type": "code",
   "execution_count": 8,
   "id": "f3189d60-abf1-4257-934b-4a24deb287f3",
   "metadata": {},
   "outputs": [
    {
     "data": {
      "text/plain": [
       "['6',\n",
       " 'red',\n",
       " '10',\n",
       " 'green',\n",
       " '11',\n",
       " 'green',\n",
       " '4',\n",
       " 'red',\n",
       " '16',\n",
       " 'green',\n",
       " '2',\n",
       " 'blue',\n",
       " '7',\n",
       " 'green',\n",
       " '5',\n",
       " 'blue',\n",
       " '4',\n",
       " 'red',\n",
       " '17',\n",
       " 'green',\n",
       " '1',\n",
       " 'red',\n",
       " '1',\n",
       " 'blue']"
      ]
     },
     "execution_count": 8,
     "metadata": {},
     "output_type": "execute_result"
    }
   ],
   "source": [
    "tokenizer.tokenize(df.at[1,1])"
   ]
  },
  {
   "cell_type": "code",
   "execution_count": 3,
   "id": "9558f7d6-9cc0-41d1-9fc7-992702b10f4e",
   "metadata": {},
   "outputs": [],
   "source": [
    "Dict = {}\n",
    "for idx,row in df.iterrows():\n",
    "    liste = []\n",
    "    tokenizer = RegexpTokenizer(r\"\\w+\")\n",
    "    tok = tokenizer.tokenize(df.at[idx,1])\n",
    "    i = 0\n",
    "    while i>-1:\n",
    "        dict = {}\n",
    "        try:\n",
    "            dict[tok[i+1]] = tok[i]\n",
    "            liste.append(dict)\n",
    "            i=i+2\n",
    "        except:\n",
    "            break\n",
    "    Dict[df.at[idx,0]] = liste"
   ]
  },
  {
   "cell_type": "code",
   "execution_count": 4,
   "id": "ad732ef8-04eb-4ecd-911a-75077a2868d0",
   "metadata": {
    "scrolled": true
   },
   "outputs": [],
   "source": [
    "for idx,row in df.iterrows():\n",
    "    liste_red = []\n",
    "    liste_blue = []\n",
    "    liste_green = []\n",
    "    for d in Dict[df.at[idx,0]]:\n",
    "        for k in d:\n",
    "            if k == 'red':\n",
    "                liste_red.append(d['red'])\n",
    "            if k =='blue':\n",
    "                liste_blue.append(d['blue'])\n",
    "            if k == 'green':\n",
    "                liste_green.append(d['green'])\n",
    "    try:\n",
    "        liste_red = [int(x) for x in liste_red]\n",
    "    except:\n",
    "        liste_red = [0]\n",
    "    try:\n",
    "        liste_blue = [int(x) for x in liste_blue]\n",
    "    except:\n",
    "        liste_blue = [0]\n",
    "    try:\n",
    "        liste_green = [int(x) for x in liste_green]\n",
    "    except:\n",
    "        liste_green = [0]   \n",
    "    Dict[df.at[idx,0]] = {'red':max(liste_red),'blue':max(liste_blue),'green':max(liste_green)}"
   ]
  },
  {
   "cell_type": "code",
   "execution_count": 5,
   "id": "58f52426-45c2-4ea9-b00a-874362ae8b63",
   "metadata": {},
   "outputs": [],
   "source": [
    "Dict_nb = {}\n",
    "i = 1\n",
    "for item in Dict:\n",
    "    Dict_nb[i] = Dict[item]\n",
    "    i += 1   "
   ]
  },
  {
   "cell_type": "code",
   "execution_count": 6,
   "id": "3f1579e7-cb45-477f-8097-adc0b200fb69",
   "metadata": {},
   "outputs": [
    {
     "data": {
      "text/plain": [
       "2162"
      ]
     },
     "execution_count": 6,
     "metadata": {},
     "output_type": "execute_result"
    }
   ],
   "source": [
    "result = 0\n",
    "for k in Dict_nb:\n",
    "    i = 0\n",
    "    if (int(Dict_nb[k]['red'])<13) and (int(Dict_nb[k]['blue'])<15) and (int(Dict_nb[k]['green'])<14):\n",
    "        i = int(k)\n",
    "        result += i\n",
    "result"
   ]
  }
 ],
 "metadata": {
  "kernelspec": {
   "display_name": "Python 3 (ipykernel)",
   "language": "python",
   "name": "python3"
  },
  "language_info": {
   "codemirror_mode": {
    "name": "ipython",
    "version": 3
   },
   "file_extension": ".py",
   "mimetype": "text/x-python",
   "name": "python",
   "nbconvert_exporter": "python",
   "pygments_lexer": "ipython3",
   "version": "3.9.13"
  }
 },
 "nbformat": 4,
 "nbformat_minor": 5
}
