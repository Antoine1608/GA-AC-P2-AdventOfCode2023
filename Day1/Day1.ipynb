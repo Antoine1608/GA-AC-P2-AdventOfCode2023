{
 "cells": [
  {
   "cell_type": "code",
   "execution_count": 10,
   "id": "b1929c7a-3ed9-4768-9a6d-281eb6daf5fb",
   "metadata": {},
   "outputs": [],
   "source": [
    "import pandas as pd\n",
    "import os"
   ]
  },
  {
   "cell_type": "code",
   "execution_count": 6,
   "id": "3e9e7642-870d-44d1-85eb-5071d00b4014",
   "metadata": {},
   "outputs": [],
   "source": [
    "df = pd.read_csv(r\"C:\\Users\\John\\Desktop\\GA-AC-AdevenOfCode2023\\Day1\\Day1.txt\",header=None)"
   ]
  },
  {
   "cell_type": "code",
   "execution_count": 7,
   "id": "a8b2c467-3098-4a74-83a4-8446121e8c71",
   "metadata": {},
   "outputs": [
    {
     "data": {
      "text/html": [
       "<div>\n",
       "<style scoped>\n",
       "    .dataframe tbody tr th:only-of-type {\n",
       "        vertical-align: middle;\n",
       "    }\n",
       "\n",
       "    .dataframe tbody tr th {\n",
       "        vertical-align: top;\n",
       "    }\n",
       "\n",
       "    .dataframe thead th {\n",
       "        text-align: right;\n",
       "    }\n",
       "</style>\n",
       "<table border=\"1\" class=\"dataframe\">\n",
       "  <thead>\n",
       "    <tr style=\"text-align: right;\">\n",
       "      <th></th>\n",
       "      <th>0</th>\n",
       "    </tr>\n",
       "  </thead>\n",
       "  <tbody>\n",
       "    <tr>\n",
       "      <th>0</th>\n",
       "      <td>tsgbzmgbonethreedrqzbhxjkvcnm3</td>\n",
       "    </tr>\n",
       "    <tr>\n",
       "      <th>1</th>\n",
       "      <td>7qlpsnhbmnconeeight78</td>\n",
       "    </tr>\n",
       "    <tr>\n",
       "      <th>2</th>\n",
       "      <td>prbqsfzqn57</td>\n",
       "    </tr>\n",
       "    <tr>\n",
       "      <th>3</th>\n",
       "      <td>ctrv3hmvjphrffktwothree</td>\n",
       "    </tr>\n",
       "    <tr>\n",
       "      <th>4</th>\n",
       "      <td>9six9qbgcvljfvccdjslspprgonenine</td>\n",
       "    </tr>\n",
       "  </tbody>\n",
       "</table>\n",
       "</div>"
      ],
      "text/plain": [
       "                                  0\n",
       "0    tsgbzmgbonethreedrqzbhxjkvcnm3\n",
       "1             7qlpsnhbmnconeeight78\n",
       "2                       prbqsfzqn57\n",
       "3           ctrv3hmvjphrffktwothree\n",
       "4  9six9qbgcvljfvccdjslspprgonenine"
      ]
     },
     "execution_count": 7,
     "metadata": {},
     "output_type": "execute_result"
    }
   ],
   "source": [
    "df.head()"
   ]
  },
  {
   "cell_type": "code",
   "execution_count": 36,
   "id": "ac99fe54-befc-4298-98c7-b044a97584df",
   "metadata": {},
   "outputs": [
    {
     "data": {
      "text/plain": [
       "55002"
      ]
     },
     "execution_count": 36,
     "metadata": {},
     "output_type": "execute_result"
    }
   ],
   "source": [
    "dict_nb = {}\n",
    "for i in range(len(df)):\n",
    "    sentence = df.iloc[i,0]\n",
    "    for j in range(len(sentence)):\n",
    "        if sentence[j].isdigit():\n",
    "            first = sentence[j]\n",
    "            break\n",
    "    j = 0\n",
    "    sentence_inv = df.iloc[i,0][::-1]\n",
    "    for j in range(len(sentence)):\n",
    "        if sentence_inv[j].isdigit():\n",
    "            last = sentence_inv[j]\n",
    "            break\n",
    "    dict_nb[i] = int(''.join([first, last]))\n",
    "sum(dict_nb.values()) "
   ]
  }
 ],
 "metadata": {
  "kernelspec": {
   "display_name": "Python 3 (ipykernel)",
   "language": "python",
   "name": "python3"
  },
  "language_info": {
   "codemirror_mode": {
    "name": "ipython",
    "version": 3
   },
   "file_extension": ".py",
   "mimetype": "text/x-python",
   "name": "python",
   "nbconvert_exporter": "python",
   "pygments_lexer": "ipython3",
   "version": "3.9.13"
  }
 },
 "nbformat": 4,
 "nbformat_minor": 5
}
