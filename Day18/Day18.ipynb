{
 "cells": [
  {
   "cell_type": "code",
   "execution_count": 1,
   "id": "62ee32d5-217a-4e74-a34b-e74f135ece7d",
   "metadata": {},
   "outputs": [],
   "source": [
    "import pandas as pd"
   ]
  },
  {
   "cell_type": "code",
   "execution_count": 2,
   "id": "a213d238-2182-4017-aea6-8a2f4f0e26f4",
   "metadata": {},
   "outputs": [
    {
     "data": {
      "text/html": [
       "<div>\n",
       "<style scoped>\n",
       "    .dataframe tbody tr th:only-of-type {\n",
       "        vertical-align: middle;\n",
       "    }\n",
       "\n",
       "    .dataframe tbody tr th {\n",
       "        vertical-align: top;\n",
       "    }\n",
       "\n",
       "    .dataframe thead th {\n",
       "        text-align: right;\n",
       "    }\n",
       "</style>\n",
       "<table border=\"1\" class=\"dataframe\">\n",
       "  <thead>\n",
       "    <tr style=\"text-align: right;\">\n",
       "      <th></th>\n",
       "      <th>0</th>\n",
       "      <th>1</th>\n",
       "      <th>2</th>\n",
       "    </tr>\n",
       "  </thead>\n",
       "  <tbody>\n",
       "    <tr>\n",
       "      <th>0</th>\n",
       "      <td>R</td>\n",
       "      <td>6</td>\n",
       "      <td>(#70c710)</td>\n",
       "    </tr>\n",
       "    <tr>\n",
       "      <th>1</th>\n",
       "      <td>D</td>\n",
       "      <td>5</td>\n",
       "      <td>(#0dc571)</td>\n",
       "    </tr>\n",
       "    <tr>\n",
       "      <th>2</th>\n",
       "      <td>L</td>\n",
       "      <td>2</td>\n",
       "      <td>(#5713f0)</td>\n",
       "    </tr>\n",
       "    <tr>\n",
       "      <th>3</th>\n",
       "      <td>D</td>\n",
       "      <td>2</td>\n",
       "      <td>(#d2c081)</td>\n",
       "    </tr>\n",
       "    <tr>\n",
       "      <th>4</th>\n",
       "      <td>R</td>\n",
       "      <td>2</td>\n",
       "      <td>(#59c680)</td>\n",
       "    </tr>\n",
       "    <tr>\n",
       "      <th>5</th>\n",
       "      <td>D</td>\n",
       "      <td>2</td>\n",
       "      <td>(#411b91)</td>\n",
       "    </tr>\n",
       "    <tr>\n",
       "      <th>6</th>\n",
       "      <td>L</td>\n",
       "      <td>5</td>\n",
       "      <td>(#8ceee2)</td>\n",
       "    </tr>\n",
       "    <tr>\n",
       "      <th>7</th>\n",
       "      <td>U</td>\n",
       "      <td>2</td>\n",
       "      <td>(#caa173)</td>\n",
       "    </tr>\n",
       "    <tr>\n",
       "      <th>8</th>\n",
       "      <td>L</td>\n",
       "      <td>1</td>\n",
       "      <td>(#1b58a2)</td>\n",
       "    </tr>\n",
       "    <tr>\n",
       "      <th>9</th>\n",
       "      <td>U</td>\n",
       "      <td>2</td>\n",
       "      <td>(#caa171)</td>\n",
       "    </tr>\n",
       "    <tr>\n",
       "      <th>10</th>\n",
       "      <td>R</td>\n",
       "      <td>2</td>\n",
       "      <td>(#7807d2)</td>\n",
       "    </tr>\n",
       "    <tr>\n",
       "      <th>11</th>\n",
       "      <td>U</td>\n",
       "      <td>3</td>\n",
       "      <td>(#a77fa3)</td>\n",
       "    </tr>\n",
       "    <tr>\n",
       "      <th>12</th>\n",
       "      <td>L</td>\n",
       "      <td>2</td>\n",
       "      <td>(#015232)</td>\n",
       "    </tr>\n",
       "    <tr>\n",
       "      <th>13</th>\n",
       "      <td>U</td>\n",
       "      <td>2</td>\n",
       "      <td>(#7a21e3)</td>\n",
       "    </tr>\n",
       "  </tbody>\n",
       "</table>\n",
       "</div>"
      ],
      "text/plain": [
       "    0  1          2\n",
       "0   R  6  (#70c710)\n",
       "1   D  5  (#0dc571)\n",
       "2   L  2  (#5713f0)\n",
       "3   D  2  (#d2c081)\n",
       "4   R  2  (#59c680)\n",
       "5   D  2  (#411b91)\n",
       "6   L  5  (#8ceee2)\n",
       "7   U  2  (#caa173)\n",
       "8   L  1  (#1b58a2)\n",
       "9   U  2  (#caa171)\n",
       "10  R  2  (#7807d2)\n",
       "11  U  3  (#a77fa3)\n",
       "12  L  2  (#015232)\n",
       "13  U  2  (#7a21e3)"
      ]
     },
     "execution_count": 2,
     "metadata": {},
     "output_type": "execute_result"
    }
   ],
   "source": [
    "dig_plan = pd.read_csv(\"Day18_sample.txt\", header=None, sep=' ')\n",
    "dig_plan"
   ]
  },
  {
   "cell_type": "code",
   "execution_count": 3,
   "id": "ebe2629c-11bd-4358-9e11-2010c4937d38",
   "metadata": {},
   "outputs": [
    {
     "name": "stdout",
     "output_type": "stream",
     "text": [
      "<class 'pandas.core.frame.DataFrame'>\n",
      "RangeIndex: 14 entries, 0 to 13\n",
      "Data columns (total 3 columns):\n",
      " #   Column  Non-Null Count  Dtype \n",
      "---  ------  --------------  ----- \n",
      " 0   0       14 non-null     object\n",
      " 1   1       14 non-null     int64 \n",
      " 2   2       14 non-null     object\n",
      "dtypes: int64(1), object(2)\n",
      "memory usage: 464.0+ bytes\n"
     ]
    }
   ],
   "source": [
    "dig_plan.info()"
   ]
  },
  {
   "cell_type": "code",
   "execution_count": 4,
   "id": "ee5f68af-ac79-4ebf-896f-eade53421bae",
   "metadata": {},
   "outputs": [
    {
     "data": {
      "text/plain": [
       "Int64Index([0, 1, 2], dtype='int64')"
      ]
     },
     "execution_count": 4,
     "metadata": {},
     "output_type": "execute_result"
    }
   ],
   "source": [
    "dig_plan.columns"
   ]
  },
  {
   "cell_type": "code",
   "execution_count": 5,
   "id": "9e2e75a2-dd23-492b-94eb-da4b5f5d5d6c",
   "metadata": {},
   "outputs": [],
   "source": [
    "nb_U = int(dig_plan.loc[dig_plan.iloc[:,0]=='U',[1]].sum())\n",
    "nb_D = int(dig_plan.loc[dig_plan.iloc[:,0]=='D',[1]].sum())\n",
    "nb_R = int(dig_plan.loc[dig_plan.iloc[:,0]=='R',[1]].sum())\n",
    "nb_L = int(dig_plan.loc[dig_plan.iloc[:,0]=='L',[1]].sum())"
   ]
  },
  {
   "cell_type": "code",
   "execution_count": 6,
   "id": "987c870d-67c4-480c-9796-a0809b25fbef",
   "metadata": {},
   "outputs": [
    {
     "data": {
      "text/plain": [
       "18"
      ]
     },
     "execution_count": 6,
     "metadata": {},
     "output_type": "execute_result"
    }
   ],
   "source": [
    "nb_U+nb_D"
   ]
  },
  {
   "cell_type": "code",
   "execution_count": 7,
   "id": "cdf44929-f3f6-4a88-ab13-4bf9d5c2f137",
   "metadata": {},
   "outputs": [],
   "source": [
    "row = 0\n",
    "col = 0\n",
    "row_min = 0\n",
    "row_max = 0\n",
    "col_min = 0\n",
    "col_max = 0\n",
    "for idx in dig_plan.index:\n",
    "    if dig_plan.at[idx,0] == 'U':\n",
    "        row = row - dig_plan.at[idx,1]        \n",
    "    if dig_plan.at[idx,0] == 'D':\n",
    "        row = row + dig_plan.at[idx,1]\n",
    "    if dig_plan.at[idx,0] == 'R':\n",
    "        col = col + dig_plan.at[idx,1]\n",
    "    if dig_plan.at[idx,0] == 'D':\n",
    "        col = col - dig_plan.at[idx,1]\n",
    "    if row < row_min:\n",
    "        row_min = row\n",
    "    if row > row_max:\n",
    "        row_max = row\n",
    "    if col < col_min:\n",
    "        col_min = col\n",
    "    if col > col_max:\n",
    "        col_max = col"
   ]
  },
  {
   "cell_type": "code",
   "execution_count": 8,
   "id": "6bad9b9b-9ceb-42df-991d-7d02416506d1",
   "metadata": {},
   "outputs": [],
   "source": [
    "df = pd.DataFrame(index=range(row_min,row_max+1), columns=range(col_min+1,col_max+1))\n",
    "#df = pd.DataFrame(index=range(0,600), columns=range(0,600))\n",
    "df = df.fillna('.')"
   ]
  },
  {
   "cell_type": "markdown",
   "id": "d09f2e0a-7143-4f93-81fb-8e00ddc65126",
   "metadata": {},
   "source": [
    "df"
   ]
  },
  {
   "cell_type": "code",
   "execution_count": 9,
   "id": "8fba47ed-9fda-46a5-aa40-1bfa0200582d",
   "metadata": {},
   "outputs": [],
   "source": [
    "i, j = 0,0"
   ]
  },
  {
   "cell_type": "code",
   "execution_count": 10,
   "id": "3c2e2427-b404-473b-b059-f0ae61aa3d50",
   "metadata": {},
   "outputs": [],
   "source": [
    "for (dir, nb_step) in zip(dig_plan[0], dig_plan[1]):\n",
    "    if dir == 'U':\n",
    "        for step in range (1,nb_step+1):\n",
    "            df.at[i-step,j] = '#'\n",
    "        i = i - step\n",
    "    if dir == 'D':\n",
    "        for step in range (1,nb_step+1):\n",
    "            df.at[i+step,j] = '#'\n",
    "        i = i + step\n",
    "    if dir == 'R':\n",
    "        for step in range (1,nb_step+1):\n",
    "            df.at[i,j+step] = '#'\n",
    "        j = j + step\n",
    "    if dir == 'L':\n",
    "        for step in range (1,nb_step+1):\n",
    "            df.at[i,j-step] = '#'\n",
    "        j = j - step            "
   ]
  },
  {
   "cell_type": "raw",
   "id": "646b9d92-37ee-47e9-b4a2-1148c915f1bc",
   "metadata": {},
   "source": [
    "filling_ens = set()\n",
    "# if cell = '.'  keep it in memory. \n",
    "def filling(i,j):\n",
    "    if df.at[i,j] == '.' and ((i, j) not in filling_ens):\n",
    "        filling_ens.add((i,j))\n",
    "    # do the same thing for adjacent cells :\n",
    "    if df.at[i-1,j-1] == '.' and ((i - 1, j - 1) not in filling_ens):\n",
    "            filling_ens.add((i-1,j-1))\n",
    "    # recursively until the memory doesnt change    \n",
    "            filling(i-1,j-1)\n",
    "    if df.at[i-1,j] == '.' and ((i - 1, j) not in filling_ens):\n",
    "            filling_ens.add((i-1,j))\n",
    "            filling(i-1,j)\n",
    "    if df.at[i-1,j+1] == '.' and ((i - 1, j + 1) not in filling_ens):\n",
    "            filling_ens.add((i-1,j+1))\n",
    "            filling(i-1,j+1)\n",
    "    if df.at[i,j+1] == '.' and ((i, j + 1) not in filling_ens):\n",
    "            filling_ens.add((i,j+1))\n",
    "            filling(i,j+1)\n",
    "    if df.at[i+1,j+1] == '.' and ((i + 1, j + 1) not in filling_ens):\n",
    "            filling_ens.add((i+1,j+1))\n",
    "            filling(i+1,j+1)\n",
    "    if df.at[i+1,j] == '.' and ((i + 1, j) not in filling_ens):\n",
    "            filling_ens.add((i+1,j))\n",
    "            filling(i+1,j)\n",
    "    if df.at[i+1,j-1] == '.' and ((i + 1, j - 1) not in filling_ens):\n",
    "            filling_ens.add((i+1,j-1))\n",
    "            filling(i+1,j-1)        "
   ]
  },
  {
   "cell_type": "code",
   "execution_count": 11,
   "id": "08fce26a-8d0b-4a43-8624-655680380278",
   "metadata": {},
   "outputs": [
    {
     "name": "stdout",
     "output_type": "stream",
     "text": [
      "set()\n"
     ]
    }
   ],
   "source": [
    "from collections import deque\n",
    "\n",
    "def filling(i, j):\n",
    "    filling_ens = set()\n",
    "    queue = deque([(i, j)])\n",
    "\n",
    "    while queue:\n",
    "        current_i, current_j = queue.popleft()\n",
    "\n",
    "        if df.at[current_i, current_j] == '.' and (current_i, current_j) not in filling_ens:\n",
    "            filling_ens.add((current_i, current_j))\n",
    "\n",
    "            # Ajouter les cellules adjacentes à la file\n",
    "            for di in range(-1, 2):\n",
    "                for dj in range(-1, 2):\n",
    "                    new_i, new_j = current_i + di, current_j + dj\n",
    "                    if 0 <= new_i < df.shape[0] and 0 <= new_j < df.shape[1]:\n",
    "                        queue.append((new_i, new_j))\n",
    "\n",
    "    return filling_ens\n",
    "\n",
    "# Utilisation de la fonction avec une position initiale (i, j)\n",
    "result = filling(i, j)\n",
    "print(result)\n"
   ]
  },
  {
   "cell_type": "code",
   "execution_count": 12,
   "id": "39130c02-e3a9-47cc-88d7-324711f36738",
   "metadata": {},
   "outputs": [],
   "source": [
    "filling_ens = filling(1,1)"
   ]
  },
  {
   "cell_type": "code",
   "execution_count": 13,
   "id": "fce007f6-ffaf-4807-b9a7-25371a65bb87",
   "metadata": {},
   "outputs": [
    {
     "data": {
      "text/plain": [
       "{(1, 1),\n",
       " (1, 2),\n",
       " (1, 3),\n",
       " (1, 4),\n",
       " (1, 5),\n",
       " (2, 3),\n",
       " (2, 4),\n",
       " (2, 5),\n",
       " (3, 3),\n",
       " (3, 4),\n",
       " (3, 5),\n",
       " (4, 3),\n",
       " (4, 4),\n",
       " (4, 5),\n",
       " (5, 3),\n",
       " (6, 1),\n",
       " (6, 2),\n",
       " (6, 3),\n",
       " (7, 2),\n",
       " (7, 3),\n",
       " (8, 2),\n",
       " (8, 3),\n",
       " (8, 4),\n",
       " (8, 5)}"
      ]
     },
     "execution_count": 13,
     "metadata": {},
     "output_type": "execute_result"
    }
   ],
   "source": [
    "filling_ens"
   ]
  },
  {
   "cell_type": "code",
   "execution_count": 14,
   "id": "aa07dd37-96ab-48b4-b843-d9413792cf6c",
   "metadata": {
    "scrolled": true
   },
   "outputs": [
    {
     "data": {
      "text/html": [
       "<div>\n",
       "<style scoped>\n",
       "    .dataframe tbody tr th:only-of-type {\n",
       "        vertical-align: middle;\n",
       "    }\n",
       "\n",
       "    .dataframe tbody tr th {\n",
       "        vertical-align: top;\n",
       "    }\n",
       "\n",
       "    .dataframe thead th {\n",
       "        text-align: right;\n",
       "    }\n",
       "</style>\n",
       "<table border=\"1\" class=\"dataframe\">\n",
       "  <thead>\n",
       "    <tr style=\"text-align: right;\">\n",
       "      <th></th>\n",
       "      <th>0</th>\n",
       "      <th>1</th>\n",
       "      <th>2</th>\n",
       "      <th>3</th>\n",
       "      <th>4</th>\n",
       "      <th>5</th>\n",
       "      <th>6</th>\n",
       "    </tr>\n",
       "  </thead>\n",
       "  <tbody>\n",
       "    <tr>\n",
       "      <th>0</th>\n",
       "      <td>#</td>\n",
       "      <td>#</td>\n",
       "      <td>#</td>\n",
       "      <td>#</td>\n",
       "      <td>#</td>\n",
       "      <td>#</td>\n",
       "      <td>#</td>\n",
       "    </tr>\n",
       "    <tr>\n",
       "      <th>1</th>\n",
       "      <td>#</td>\n",
       "      <td>#</td>\n",
       "      <td>#</td>\n",
       "      <td>#</td>\n",
       "      <td>#</td>\n",
       "      <td>#</td>\n",
       "      <td>#</td>\n",
       "    </tr>\n",
       "    <tr>\n",
       "      <th>2</th>\n",
       "      <td>#</td>\n",
       "      <td>#</td>\n",
       "      <td>#</td>\n",
       "      <td>#</td>\n",
       "      <td>#</td>\n",
       "      <td>#</td>\n",
       "      <td>#</td>\n",
       "    </tr>\n",
       "    <tr>\n",
       "      <th>3</th>\n",
       "      <td>.</td>\n",
       "      <td>.</td>\n",
       "      <td>#</td>\n",
       "      <td>#</td>\n",
       "      <td>#</td>\n",
       "      <td>#</td>\n",
       "      <td>#</td>\n",
       "    </tr>\n",
       "    <tr>\n",
       "      <th>4</th>\n",
       "      <td>.</td>\n",
       "      <td>.</td>\n",
       "      <td>#</td>\n",
       "      <td>#</td>\n",
       "      <td>#</td>\n",
       "      <td>#</td>\n",
       "      <td>#</td>\n",
       "    </tr>\n",
       "    <tr>\n",
       "      <th>5</th>\n",
       "      <td>#</td>\n",
       "      <td>#</td>\n",
       "      <td>#</td>\n",
       "      <td>#</td>\n",
       "      <td>#</td>\n",
       "      <td>#</td>\n",
       "      <td>#</td>\n",
       "    </tr>\n",
       "    <tr>\n",
       "      <th>6</th>\n",
       "      <td>#</td>\n",
       "      <td>#</td>\n",
       "      <td>#</td>\n",
       "      <td>#</td>\n",
       "      <td>#</td>\n",
       "      <td>.</td>\n",
       "      <td>.</td>\n",
       "    </tr>\n",
       "    <tr>\n",
       "      <th>7</th>\n",
       "      <td>#</td>\n",
       "      <td>#</td>\n",
       "      <td>#</td>\n",
       "      <td>#</td>\n",
       "      <td>#</td>\n",
       "      <td>#</td>\n",
       "      <td>#</td>\n",
       "    </tr>\n",
       "    <tr>\n",
       "      <th>8</th>\n",
       "      <td>.</td>\n",
       "      <td>#</td>\n",
       "      <td>#</td>\n",
       "      <td>#</td>\n",
       "      <td>#</td>\n",
       "      <td>#</td>\n",
       "      <td>#</td>\n",
       "    </tr>\n",
       "    <tr>\n",
       "      <th>9</th>\n",
       "      <td>.</td>\n",
       "      <td>#</td>\n",
       "      <td>#</td>\n",
       "      <td>#</td>\n",
       "      <td>#</td>\n",
       "      <td>#</td>\n",
       "      <td>#</td>\n",
       "    </tr>\n",
       "  </tbody>\n",
       "</table>\n",
       "</div>"
      ],
      "text/plain": [
       "   0  1  2  3  4  5  6\n",
       "0  #  #  #  #  #  #  #\n",
       "1  #  #  #  #  #  #  #\n",
       "2  #  #  #  #  #  #  #\n",
       "3  .  .  #  #  #  #  #\n",
       "4  .  .  #  #  #  #  #\n",
       "5  #  #  #  #  #  #  #\n",
       "6  #  #  #  #  #  .  .\n",
       "7  #  #  #  #  #  #  #\n",
       "8  .  #  #  #  #  #  #\n",
       "9  .  #  #  #  #  #  #"
      ]
     },
     "execution_count": 14,
     "metadata": {},
     "output_type": "execute_result"
    }
   ],
   "source": [
    "for elt in filling_ens :\n",
    "    df.iloc[elt] = \"#\"\n",
    "df"
   ]
  },
  {
   "cell_type": "code",
   "execution_count": 15,
   "id": "64b3f64a-44b8-407f-869e-dcc01ced10e1",
   "metadata": {},
   "outputs": [],
   "source": [
    "df = df.fillna('.')"
   ]
  },
  {
   "cell_type": "code",
   "execution_count": 16,
   "id": "4ae67992-7765-42df-808b-0e0c345ee51f",
   "metadata": {},
   "outputs": [
    {
     "name": "stdout",
     "output_type": "stream",
     "text": [
      "Total count of '#': 62\n"
     ]
    }
   ],
   "source": [
    "# Count occurrences of \"#\" in each element of the DataFrame\n",
    "count_hashtags = df.applymap(lambda x: x.count('#'))\n",
    "\n",
    "# Sum the counts for each column to get the total count of \"#\"\n",
    "total_hashtags_count = count_hashtags.sum().sum()\n",
    "\n",
    "print(\"Total count of '#':\", total_hashtags_count)"
   ]
  }
 ],
 "metadata": {
  "kernelspec": {
   "display_name": "Python 3 (ipykernel)",
   "language": "python",
   "name": "python3"
  },
  "language_info": {
   "codemirror_mode": {
    "name": "ipython",
    "version": 3
   },
   "file_extension": ".py",
   "mimetype": "text/x-python",
   "name": "python",
   "nbconvert_exporter": "python",
   "pygments_lexer": "ipython3",
   "version": "3.9.13"
  }
 },
 "nbformat": 4,
 "nbformat_minor": 5
}
