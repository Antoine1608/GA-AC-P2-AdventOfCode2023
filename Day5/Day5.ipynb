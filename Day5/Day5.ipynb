{
 "cells": [
  {
   "cell_type": "code",
   "execution_count": 1,
   "id": "d4e84339-ae87-477c-a5eb-6d9bd81ac018",
   "metadata": {},
   "outputs": [],
   "source": [
    "import pandas as pd\n",
    "import numpy as np\n",
    "from tqdm import tqdm"
   ]
  },
  {
   "cell_type": "code",
   "execution_count": 2,
   "id": "8390273f-cc6f-40fa-bbdb-e6bc575d35c1",
   "metadata": {},
   "outputs": [
    {
     "data": {
      "text/html": [
       "<div>\n",
       "<style scoped>\n",
       "    .dataframe tbody tr th:only-of-type {\n",
       "        vertical-align: middle;\n",
       "    }\n",
       "\n",
       "    .dataframe tbody tr th {\n",
       "        vertical-align: top;\n",
       "    }\n",
       "\n",
       "    .dataframe thead th {\n",
       "        text-align: right;\n",
       "    }\n",
       "</style>\n",
       "<table border=\"1\" class=\"dataframe\">\n",
       "  <thead>\n",
       "    <tr style=\"text-align: right;\">\n",
       "      <th></th>\n",
       "      <th>0</th>\n",
       "      <th>1</th>\n",
       "    </tr>\n",
       "  </thead>\n",
       "  <tbody>\n",
       "    <tr>\n",
       "      <th>0</th>\n",
       "      <td>seeds</td>\n",
       "      <td>515785082 87905039 2104518691 503149843 72033...</td>\n",
       "    </tr>\n",
       "    <tr>\n",
       "      <th>1</th>\n",
       "      <td>seed-to-soil map</td>\n",
       "      <td>NaN</td>\n",
       "    </tr>\n",
       "    <tr>\n",
       "      <th>2</th>\n",
       "      <td>2025334497 3876763368 16729580</td>\n",
       "      <td>NaN</td>\n",
       "    </tr>\n",
       "    <tr>\n",
       "      <th>3</th>\n",
       "      <td>1877945250 2032519622 95086460</td>\n",
       "      <td>NaN</td>\n",
       "    </tr>\n",
       "    <tr>\n",
       "      <th>4</th>\n",
       "      <td>0 679167893 381174930</td>\n",
       "      <td>NaN</td>\n",
       "    </tr>\n",
       "    <tr>\n",
       "      <th>...</th>\n",
       "      <td>...</td>\n",
       "      <td>...</td>\n",
       "    </tr>\n",
       "    <tr>\n",
       "      <th>271</th>\n",
       "      <td>3421416680 3146147600 90926896</td>\n",
       "      <td>NaN</td>\n",
       "    </tr>\n",
       "    <tr>\n",
       "      <th>272</th>\n",
       "      <td>4047956041 3989459463 25399723</td>\n",
       "      <td>NaN</td>\n",
       "    </tr>\n",
       "    <tr>\n",
       "      <th>273</th>\n",
       "      <td>3367707747 3700678070 53708933</td>\n",
       "      <td>NaN</td>\n",
       "    </tr>\n",
       "    <tr>\n",
       "      <th>274</th>\n",
       "      <td>4073355764 3658307438 42370632</td>\n",
       "      <td>NaN</td>\n",
       "    </tr>\n",
       "    <tr>\n",
       "      <th>275</th>\n",
       "      <td>3193297949 4153156612 106313175</td>\n",
       "      <td>NaN</td>\n",
       "    </tr>\n",
       "  </tbody>\n",
       "</table>\n",
       "<p>276 rows × 2 columns</p>\n",
       "</div>"
      ],
      "text/plain": [
       "                                   0  \\\n",
       "0                              seeds   \n",
       "1                   seed-to-soil map   \n",
       "2     2025334497 3876763368 16729580   \n",
       "3     1877945250 2032519622 95086460   \n",
       "4              0 679167893 381174930   \n",
       "..                               ...   \n",
       "271   3421416680 3146147600 90926896   \n",
       "272   4047956041 3989459463 25399723   \n",
       "273   3367707747 3700678070 53708933   \n",
       "274   4073355764 3658307438 42370632   \n",
       "275  3193297949 4153156612 106313175   \n",
       "\n",
       "                                                     1  \n",
       "0     515785082 87905039 2104518691 503149843 72033...  \n",
       "1                                                  NaN  \n",
       "2                                                  NaN  \n",
       "3                                                  NaN  \n",
       "4                                                  NaN  \n",
       "..                                                 ...  \n",
       "271                                                NaN  \n",
       "272                                                NaN  \n",
       "273                                                NaN  \n",
       "274                                                NaN  \n",
       "275                                                NaN  \n",
       "\n",
       "[276 rows x 2 columns]"
      ]
     },
     "execution_count": 2,
     "metadata": {},
     "output_type": "execute_result"
    }
   ],
   "source": [
    "df = pd.read_csv(\"Day5.txt\",header=None, sep=':')\n",
    "df"
   ]
  },
  {
   "cell_type": "code",
   "execution_count": 3,
   "id": "290995f4-0fee-4544-ae48-a7ab29517f06",
   "metadata": {},
   "outputs": [],
   "source": [
    "seed_df = pd.DataFrame()\n",
    "seed_df['seed_1'] = df.iloc[0,1].split()\n",
    "seed_df['seed_2'] = df.iloc[0,1].split()\n",
    "seed_df = seed_df.astype('int64')"
   ]
  },
  {
   "cell_type": "code",
   "execution_count": 4,
   "id": "3db03cd7-afd6-4451-b188-e44bde307909",
   "metadata": {},
   "outputs": [],
   "source": [
    "%%time\n",
    "# this way\n",
    "dict_map = {}\n",
    "for idx in tqdm(range(1, len(df))):\n",
    "    #print('idx :',idx)\n",
    "    if df.at[idx,0][0].isalpha():\n",
    "        dict_map[df.at[idx,0]]={}\n",
    "        i = 0\n",
    "        idx2 = idx + 1\n",
    "        #print('idx2 :',idx2)\n",
    "        try:\n",
    "            while df.at[idx2,0][0].isdigit():                \n",
    "                    list_row = [int(x) for x in df.at[idx2,0].split()]\n",
    "                    zip1 = list(range(list_row[1], list_row[1]+list_row[2]))\n",
    "                    zip2 = list(range(list_row[0], list_row[0]+list_row[2]))\n",
    "                    #print('dict_map avant: ',dict_map)\n",
    "                    #print('zip : ',{df.at[idx,0]:dict(zip(zip1,zip2))})\n",
    "                    # Fusionnez les deux dictionnaires\n",
    "                    for key, value in {df.at[idx,0]:dict(zip(zip1,zip2))}.items():\n",
    "                        dict_map[key] = {**dict_map[key],**value}\n",
    "                    #print('dict_map après:',dict_map)\n",
    "                    idx2 += 1\n",
    "        except:\n",
    "            break\n",
    "        #print(dict_map)\n"
   ]
  },
  {
   "cell_type": "code",
   "execution_count": null,
   "id": "2f369656-b5c9-4d29-b076-9a583f3319c6",
   "metadata": {},
   "outputs": [],
   "source": [
    "%%time\n",
    "# that way\n",
    "dict_map = {}\n",
    "idx = 1\n",
    "\n",
    "while idx < len(df) and df.at[idx, 0][0].isalpha():\n",
    "    key = df.at[idx, 0]\n",
    "    dict_map[key] = {}\n",
    "    idx2 = idx + 1\n",
    "\n",
    "    while idx2 < len(df) and df.at[idx2, 0][0].isdigit():\n",
    "        list_row = [int(x) for x in df.at[idx2, 0].split()]\n",
    "        zip1 = list(range(list_row[1], list_row[1] + list_row[2]))\n",
    "        zip2 = list(range(list_row[0], list_row[0] + list_row[2]))\n",
    "        dict_map[key].update(dict(zip(zip1, zip2)))\n",
    "        idx2 += 1\n",
    "\n",
    "    idx += 1\n",
    "\n",
    "# Affichez le résultat final\n",
    "print(dict_map)"
   ]
  },
  {
   "cell_type": "code",
   "execution_count": 5,
   "id": "a1322e13-63a4-42dc-aae6-dd9caa176193",
   "metadata": {},
   "outputs": [
    {
     "ename": "MemoryError",
     "evalue": "",
     "output_type": "error",
     "traceback": [
      "\u001b[1;31m---------------------------------------------------------------------------\u001b[0m",
      "\u001b[1;31mMemoryError\u001b[0m                               Traceback (most recent call last)",
      "Cell \u001b[1;32mIn[5], line 3\u001b[0m\n\u001b[0;32m      1\u001b[0m data_frame \u001b[38;5;241m=\u001b[39m {}\n\u001b[0;32m      2\u001b[0m \u001b[38;5;28;01mfor\u001b[39;00m k \u001b[38;5;129;01min\u001b[39;00m dict_map:\n\u001b[1;32m----> 3\u001b[0m     data_frame[k] \u001b[38;5;241m=\u001b[39m \u001b[43mpd\u001b[49m\u001b[38;5;241;43m.\u001b[39;49m\u001b[43mDataFrame\u001b[49m\u001b[43m(\u001b[49m\u001b[43mdict_map\u001b[49m\u001b[43m[\u001b[49m\u001b[43mk\u001b[49m\u001b[43m]\u001b[49m\u001b[43m,\u001b[49m\u001b[43mindex\u001b[49m\u001b[38;5;241;43m=\u001b[39;49m\u001b[43m[\u001b[49m\u001b[38;5;241;43m0\u001b[39;49m\u001b[43m]\u001b[49m\u001b[43m)\u001b[49m\u001b[38;5;241m.\u001b[39mT\n\u001b[0;32m      4\u001b[0m     \u001b[38;5;66;03m#print(data_frame[k])\u001b[39;00m\n",
      "File \u001b[1;32m~\\Desktop\\venv\\lib\\site-packages\\pandas\\core\\frame.py:664\u001b[0m, in \u001b[0;36mDataFrame.__init__\u001b[1;34m(self, data, index, columns, dtype, copy)\u001b[0m\n\u001b[0;32m    658\u001b[0m     mgr \u001b[38;5;241m=\u001b[39m \u001b[38;5;28mself\u001b[39m\u001b[38;5;241m.\u001b[39m_init_mgr(\n\u001b[0;32m    659\u001b[0m         data, axes\u001b[38;5;241m=\u001b[39m{\u001b[38;5;124m\"\u001b[39m\u001b[38;5;124mindex\u001b[39m\u001b[38;5;124m\"\u001b[39m: index, \u001b[38;5;124m\"\u001b[39m\u001b[38;5;124mcolumns\u001b[39m\u001b[38;5;124m\"\u001b[39m: columns}, dtype\u001b[38;5;241m=\u001b[39mdtype, copy\u001b[38;5;241m=\u001b[39mcopy\n\u001b[0;32m    660\u001b[0m     )\n\u001b[0;32m    662\u001b[0m \u001b[38;5;28;01melif\u001b[39;00m \u001b[38;5;28misinstance\u001b[39m(data, \u001b[38;5;28mdict\u001b[39m):\n\u001b[0;32m    663\u001b[0m     \u001b[38;5;66;03m# GH#38939 de facto copy defaults to False only in non-dict cases\u001b[39;00m\n\u001b[1;32m--> 664\u001b[0m     mgr \u001b[38;5;241m=\u001b[39m \u001b[43mdict_to_mgr\u001b[49m\u001b[43m(\u001b[49m\u001b[43mdata\u001b[49m\u001b[43m,\u001b[49m\u001b[43m \u001b[49m\u001b[43mindex\u001b[49m\u001b[43m,\u001b[49m\u001b[43m \u001b[49m\u001b[43mcolumns\u001b[49m\u001b[43m,\u001b[49m\u001b[43m \u001b[49m\u001b[43mdtype\u001b[49m\u001b[38;5;241;43m=\u001b[39;49m\u001b[43mdtype\u001b[49m\u001b[43m,\u001b[49m\u001b[43m \u001b[49m\u001b[43mcopy\u001b[49m\u001b[38;5;241;43m=\u001b[39;49m\u001b[43mcopy\u001b[49m\u001b[43m,\u001b[49m\u001b[43m \u001b[49m\u001b[43mtyp\u001b[49m\u001b[38;5;241;43m=\u001b[39;49m\u001b[43mmanager\u001b[49m\u001b[43m)\u001b[49m\n\u001b[0;32m    665\u001b[0m \u001b[38;5;28;01melif\u001b[39;00m \u001b[38;5;28misinstance\u001b[39m(data, ma\u001b[38;5;241m.\u001b[39mMaskedArray):\n\u001b[0;32m    666\u001b[0m     \u001b[38;5;28;01mimport\u001b[39;00m \u001b[38;5;21;01mnumpy\u001b[39;00m\u001b[38;5;21;01m.\u001b[39;00m\u001b[38;5;21;01mma\u001b[39;00m\u001b[38;5;21;01m.\u001b[39;00m\u001b[38;5;21;01mmrecords\u001b[39;00m \u001b[38;5;28;01mas\u001b[39;00m \u001b[38;5;21;01mmrecords\u001b[39;00m\n",
      "File \u001b[1;32m~\\Desktop\\venv\\lib\\site-packages\\pandas\\core\\internals\\construction.py:493\u001b[0m, in \u001b[0;36mdict_to_mgr\u001b[1;34m(data, index, columns, dtype, typ, copy)\u001b[0m\n\u001b[0;32m    489\u001b[0m     \u001b[38;5;28;01melse\u001b[39;00m:\n\u001b[0;32m    490\u001b[0m         \u001b[38;5;66;03m# dtype check to exclude e.g. range objects, scalars\u001b[39;00m\n\u001b[0;32m    491\u001b[0m         arrays \u001b[38;5;241m=\u001b[39m [x\u001b[38;5;241m.\u001b[39mcopy() \u001b[38;5;28;01mif\u001b[39;00m \u001b[38;5;28mhasattr\u001b[39m(x, \u001b[38;5;124m\"\u001b[39m\u001b[38;5;124mdtype\u001b[39m\u001b[38;5;124m\"\u001b[39m) \u001b[38;5;28;01melse\u001b[39;00m x \u001b[38;5;28;01mfor\u001b[39;00m x \u001b[38;5;129;01min\u001b[39;00m arrays]\n\u001b[1;32m--> 493\u001b[0m \u001b[38;5;28;01mreturn\u001b[39;00m \u001b[43marrays_to_mgr\u001b[49m\u001b[43m(\u001b[49m\u001b[43marrays\u001b[49m\u001b[43m,\u001b[49m\u001b[43m \u001b[49m\u001b[43mcolumns\u001b[49m\u001b[43m,\u001b[49m\u001b[43m \u001b[49m\u001b[43mindex\u001b[49m\u001b[43m,\u001b[49m\u001b[43m \u001b[49m\u001b[43mdtype\u001b[49m\u001b[38;5;241;43m=\u001b[39;49m\u001b[43mdtype\u001b[49m\u001b[43m,\u001b[49m\u001b[43m \u001b[49m\u001b[43mtyp\u001b[49m\u001b[38;5;241;43m=\u001b[39;49m\u001b[43mtyp\u001b[49m\u001b[43m,\u001b[49m\u001b[43m \u001b[49m\u001b[43mconsolidate\u001b[49m\u001b[38;5;241;43m=\u001b[39;49m\u001b[43mcopy\u001b[49m\u001b[43m)\u001b[49m\n",
      "File \u001b[1;32m~\\Desktop\\venv\\lib\\site-packages\\pandas\\core\\internals\\construction.py:154\u001b[0m, in \u001b[0;36marrays_to_mgr\u001b[1;34m(arrays, columns, index, dtype, verify_integrity, typ, consolidate)\u001b[0m\n\u001b[0;32m    151\u001b[0m axes \u001b[38;5;241m=\u001b[39m [columns, index]\n\u001b[0;32m    153\u001b[0m \u001b[38;5;28;01mif\u001b[39;00m typ \u001b[38;5;241m==\u001b[39m \u001b[38;5;124m\"\u001b[39m\u001b[38;5;124mblock\u001b[39m\u001b[38;5;124m\"\u001b[39m:\n\u001b[1;32m--> 154\u001b[0m     \u001b[38;5;28;01mreturn\u001b[39;00m \u001b[43mcreate_block_manager_from_column_arrays\u001b[49m\u001b[43m(\u001b[49m\n\u001b[0;32m    155\u001b[0m \u001b[43m        \u001b[49m\u001b[43marrays\u001b[49m\u001b[43m,\u001b[49m\u001b[43m \u001b[49m\u001b[43maxes\u001b[49m\u001b[43m,\u001b[49m\u001b[43m \u001b[49m\u001b[43mconsolidate\u001b[49m\u001b[38;5;241;43m=\u001b[39;49m\u001b[43mconsolidate\u001b[49m\n\u001b[0;32m    156\u001b[0m \u001b[43m    \u001b[49m\u001b[43m)\u001b[49m\n\u001b[0;32m    157\u001b[0m \u001b[38;5;28;01melif\u001b[39;00m typ \u001b[38;5;241m==\u001b[39m \u001b[38;5;124m\"\u001b[39m\u001b[38;5;124marray\u001b[39m\u001b[38;5;124m\"\u001b[39m:\n\u001b[0;32m    158\u001b[0m     \u001b[38;5;28;01mreturn\u001b[39;00m ArrayManager(arrays, [index, columns])\n",
      "File \u001b[1;32m~\\Desktop\\venv\\lib\\site-packages\\pandas\\core\\internals\\managers.py:2199\u001b[0m, in \u001b[0;36mcreate_block_manager_from_column_arrays\u001b[1;34m(arrays, axes, consolidate)\u001b[0m\n\u001b[0;32m   2182\u001b[0m \u001b[38;5;28;01mdef\u001b[39;00m \u001b[38;5;21mcreate_block_manager_from_column_arrays\u001b[39m(\n\u001b[0;32m   2183\u001b[0m     arrays: \u001b[38;5;28mlist\u001b[39m[ArrayLike],\n\u001b[0;32m   2184\u001b[0m     axes: \u001b[38;5;28mlist\u001b[39m[Index],\n\u001b[1;32m   (...)\u001b[0m\n\u001b[0;32m   2195\u001b[0m     \u001b[38;5;66;03m# These last three are sufficient to allow us to safely pass\u001b[39;00m\n\u001b[0;32m   2196\u001b[0m     \u001b[38;5;66;03m#  verify_integrity=False below.\u001b[39;00m\n\u001b[0;32m   2198\u001b[0m     \u001b[38;5;28;01mtry\u001b[39;00m:\n\u001b[1;32m-> 2199\u001b[0m         blocks \u001b[38;5;241m=\u001b[39m \u001b[43m_form_blocks\u001b[49m\u001b[43m(\u001b[49m\u001b[43marrays\u001b[49m\u001b[43m,\u001b[49m\u001b[43m \u001b[49m\u001b[43mconsolidate\u001b[49m\u001b[43m)\u001b[49m\n\u001b[0;32m   2200\u001b[0m         mgr \u001b[38;5;241m=\u001b[39m BlockManager(blocks, axes, verify_integrity\u001b[38;5;241m=\u001b[39m\u001b[38;5;28;01mFalse\u001b[39;00m)\n\u001b[0;32m   2201\u001b[0m     \u001b[38;5;28;01mexcept\u001b[39;00m \u001b[38;5;167;01mValueError\u001b[39;00m \u001b[38;5;28;01mas\u001b[39;00m e:\n",
      "File \u001b[1;32m~\\Desktop\\venv\\lib\\site-packages\\pandas\\core\\internals\\managers.py:2273\u001b[0m, in \u001b[0;36m_form_blocks\u001b[1;34m(arrays, consolidate)\u001b[0m\n\u001b[0;32m   2270\u001b[0m \u001b[38;5;28;01mif\u001b[39;00m \u001b[38;5;28missubclass\u001b[39m(dtype\u001b[38;5;241m.\u001b[39mtype, (\u001b[38;5;28mstr\u001b[39m, \u001b[38;5;28mbytes\u001b[39m)):\n\u001b[0;32m   2271\u001b[0m     dtype \u001b[38;5;241m=\u001b[39m np\u001b[38;5;241m.\u001b[39mdtype(\u001b[38;5;28mobject\u001b[39m)\n\u001b[1;32m-> 2273\u001b[0m values, placement \u001b[38;5;241m=\u001b[39m \u001b[43m_stack_arrays\u001b[49m\u001b[43m(\u001b[49m\u001b[38;5;28;43mlist\u001b[39;49m\u001b[43m(\u001b[49m\u001b[43mtup_block\u001b[49m\u001b[43m)\u001b[49m\u001b[43m,\u001b[49m\u001b[43m \u001b[49m\u001b[43mdtype\u001b[49m\u001b[43m)\u001b[49m\n\u001b[0;32m   2274\u001b[0m \u001b[38;5;28;01mif\u001b[39;00m is_dtlike:\n\u001b[0;32m   2275\u001b[0m     values \u001b[38;5;241m=\u001b[39m ensure_wrapped_if_datetimelike(values)\n",
      "File \u001b[1;32m~\\Desktop\\venv\\lib\\site-packages\\pandas\\core\\internals\\managers.py:2307\u001b[0m, in \u001b[0;36m_stack_arrays\u001b[1;34m(tuples, dtype)\u001b[0m\n\u001b[0;32m   2305\u001b[0m \u001b[38;5;28;01mdef\u001b[39;00m \u001b[38;5;21m_stack_arrays\u001b[39m(tuples, dtype: np\u001b[38;5;241m.\u001b[39mdtype):\n\u001b[1;32m-> 2307\u001b[0m     placement, arrays \u001b[38;5;241m=\u001b[39m \u001b[38;5;28mzip\u001b[39m(\u001b[38;5;241m*\u001b[39mtuples)\n\u001b[0;32m   2309\u001b[0m     first \u001b[38;5;241m=\u001b[39m arrays[\u001b[38;5;241m0\u001b[39m]\n\u001b[0;32m   2310\u001b[0m     shape \u001b[38;5;241m=\u001b[39m (\u001b[38;5;28mlen\u001b[39m(arrays),) \u001b[38;5;241m+\u001b[39m first\u001b[38;5;241m.\u001b[39mshape\n",
      "\u001b[1;31mMemoryError\u001b[0m: "
     ]
    }
   ],
   "source": [
    "%%time\n",
    "# this way\n",
    "data_frame = {}\n",
    "for k in tqdm(dict_map):\n",
    "    data_frame[k] = pd.DataFrame(dict_map[k],index=[0]).T\n",
    "    #print(data_frame[k])"
   ]
  },
  {
   "cell_type": "code",
   "execution_count": null,
   "id": "36ea787f-73c1-4a43-80fe-aedac85fbe28",
   "metadata": {},
   "outputs": [],
   "source": [
    "%%time\n",
    "# that way\n",
    "data_frame = {k: pd.DataFrame(v, index=[0]).T for k, v in dict_map.items()}"
   ]
  },
  {
   "cell_type": "code",
   "execution_count": null,
   "id": "7efe17ec-eee9-4b07-a5dc-682b0b3886f2",
   "metadata": {},
   "outputs": [],
   "source": [
    "for k in dict_map:\n",
    "    data_frame[k] = data_frame[k].reset_index(drop=False)\n",
    "    col1 = f\"{k}{'_1'}\"\n",
    "    col2 = f\"{k}{'_2'}\"\n",
    "    data_frame[k][col1] = data_frame[k]['index']\n",
    "    data_frame[k][col2] = data_frame[k][0]\n",
    "    data_frame[k].drop(columns=['index',0], inplace=True)"
   ]
  },
  {
   "cell_type": "code",
   "execution_count": null,
   "id": "316356c9-0683-4690-bca7-be6806b29b99",
   "metadata": {},
   "outputs": [],
   "source": [
    "seed_df"
   ]
  },
  {
   "cell_type": "code",
   "execution_count": null,
   "id": "8ae33f0a-a58a-4ae1-b9c9-782e011ff3f8",
   "metadata": {},
   "outputs": [],
   "source": [
    "dict_map = {**{'seed_to_seed': seed_df}, **dict_map}"
   ]
  },
  {
   "cell_type": "code",
   "execution_count": null,
   "id": "d05f8245-a1b5-4d1a-b467-9a12ee93eb99",
   "metadata": {},
   "outputs": [],
   "source": [
    "dict_map.keys()"
   ]
  },
  {
   "cell_type": "code",
   "execution_count": null,
   "id": "b335a076-483e-4f04-803f-4887bb53a991",
   "metadata": {},
   "outputs": [],
   "source": [
    "data_frame = {**{'seed_to_seed': seed_df}, **data_frame}"
   ]
  },
  {
   "cell_type": "code",
   "execution_count": null,
   "id": "1de315c6-7a9d-4372-8679-5145484fb1f6",
   "metadata": {},
   "outputs": [],
   "source": [
    "data_frame['seed-to-soil map'].head(2)"
   ]
  },
  {
   "cell_type": "code",
   "execution_count": null,
   "id": "7d8c0886-e084-4b03-a348-ac8909e17e5e",
   "metadata": {},
   "outputs": [],
   "source": [
    "df"
   ]
  },
  {
   "cell_type": "code",
   "execution_count": null,
   "id": "16b594c4-915a-4275-8110-5575fbcd2214",
   "metadata": {},
   "outputs": [],
   "source": [
    "result = data_frame[list(dict_map.keys())[0]]\n",
    "for i in range(1,len(dict_map)):\n",
    "    # Fusionnez le DataFrame sur sa colonne 'key' avec l'autre DataFrame sur son index\n",
    "    df1 = result#data_frame[list(dict_map.keys())[i]]\n",
    "    df2 = data_frame[list(dict_map.keys())[i]]\n",
    "    #print('result before : ',result)\n",
    "    #print('df1 : ',df1)\n",
    "    result = pd.merge(df1, df2, how='left',left_on=str(result.columns[-1]), right_on=str(df2.columns[0]))\n",
    "    print('result before : ',result.head(5))\n",
    "    for i  in result.index:\n",
    "          #print('result.iloc[i,-1]', result.iloc[i,-1])                      \n",
    "          if result.iloc[i,-1] != result.iloc[i,-1]:\n",
    "              #print('result.iloc[i,-1] NaN détecté')\n",
    "              result.iloc[i,-1] = result.iloc[i,-3]\n",
    "              #print('result.iloc[i,-1] changé en : ', result.iloc[i,-1])\n",
    "            \n",
    "    print('result after : ',result.head())\n",
    "# Affichez le résultat\n",
    "result = pd.DataFrame(result)\n",
    "#result.columns"
   ]
  },
  {
   "cell_type": "code",
   "execution_count": null,
   "id": "e63348ac-10d2-44bc-a7b5-40635e7ce186",
   "metadata": {},
   "outputs": [],
   "source": [
    "min(result.iloc[:,-1])"
   ]
  },
  {
   "cell_type": "code",
   "execution_count": null,
   "id": "628f0474-f5c0-4a43-ab53-896bce5669df",
   "metadata": {},
   "outputs": [],
   "source": [
    "import os\n",
    "\n",
    "# Exécutez la commande PowerShell pour obtenir le nombre de cœurs\n",
    "command = \"powershell (Get-WmiObject Win32_ComputerSystem).NumberOfLogicalProcessors\"\n",
    "result = os.popen(command).read()\n",
    "\n",
    "# Affichez le résultat\n",
    "print(\"Nombre de cœurs de processeur:\", result.strip())"
   ]
  },
  {
   "cell_type": "code",
   "execution_count": null,
   "id": "ae682813-3f4d-4f56-9695-9314c03ed3e7",
   "metadata": {},
   "outputs": [],
   "source": [
    "# Créez un ThreadPoolExecutor avec le nombre de cœurs disponibles\n",
    "with concurrent.futures.ThreadPoolExecutor() as executor:\n",
    "    # Exécutez la fonction get_number_of_cores en parallèle\n",
    "    future = executor.submit(get_number_of_cores)\n",
    "\n",
    "# Obtenez le résultat une fois terminé\n",
    "result = future.result()\n",
    "\n",
    "# Affichez le résultat\n",
    "print(\"Nombre de cœurs de processeur:\", result)"
   ]
  }
 ],
 "metadata": {
  "kernelspec": {
   "display_name": "Python 3 (ipykernel)",
   "language": "python",
   "name": "python3"
  },
  "language_info": {
   "codemirror_mode": {
    "name": "ipython",
    "version": 3
   },
   "file_extension": ".py",
   "mimetype": "text/x-python",
   "name": "python",
   "nbconvert_exporter": "python",
   "pygments_lexer": "ipython3",
   "version": "3.9.13"
  }
 },
 "nbformat": 4,
 "nbformat_minor": 5
}
