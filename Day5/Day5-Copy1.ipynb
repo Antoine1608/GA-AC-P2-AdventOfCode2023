{
 "cells": [
  {
   "cell_type": "code",
   "execution_count": 1,
   "id": "d4e84339-ae87-477c-a5eb-6d9bd81ac018",
   "metadata": {},
   "outputs": [],
   "source": [
    "import pandas as pd\n",
    "import numpy as np\n",
    "from tqdm import tqdm"
   ]
  },
  {
   "cell_type": "code",
   "execution_count": 2,
   "id": "8390273f-cc6f-40fa-bbdb-e6bc575d35c1",
   "metadata": {},
   "outputs": [
    {
     "data": {
      "text/html": [
       "<div>\n",
       "<style scoped>\n",
       "    .dataframe tbody tr th:only-of-type {\n",
       "        vertical-align: middle;\n",
       "    }\n",
       "\n",
       "    .dataframe tbody tr th {\n",
       "        vertical-align: top;\n",
       "    }\n",
       "\n",
       "    .dataframe thead th {\n",
       "        text-align: right;\n",
       "    }\n",
       "</style>\n",
       "<table border=\"1\" class=\"dataframe\">\n",
       "  <thead>\n",
       "    <tr style=\"text-align: right;\">\n",
       "      <th></th>\n",
       "      <th>0</th>\n",
       "      <th>1</th>\n",
       "    </tr>\n",
       "  </thead>\n",
       "  <tbody>\n",
       "    <tr>\n",
       "      <th>0</th>\n",
       "      <td>seeds</td>\n",
       "      <td>515785082 87905039 2104518691 503149843 72033...</td>\n",
       "    </tr>\n",
       "    <tr>\n",
       "      <th>1</th>\n",
       "      <td>seed-to-soil map</td>\n",
       "      <td>NaN</td>\n",
       "    </tr>\n",
       "    <tr>\n",
       "      <th>2</th>\n",
       "      <td>2025334497 3876763368 16729580</td>\n",
       "      <td>NaN</td>\n",
       "    </tr>\n",
       "    <tr>\n",
       "      <th>3</th>\n",
       "      <td>1877945250 2032519622 95086460</td>\n",
       "      <td>NaN</td>\n",
       "    </tr>\n",
       "    <tr>\n",
       "      <th>4</th>\n",
       "      <td>0 679167893 381174930</td>\n",
       "      <td>NaN</td>\n",
       "    </tr>\n",
       "    <tr>\n",
       "      <th>...</th>\n",
       "      <td>...</td>\n",
       "      <td>...</td>\n",
       "    </tr>\n",
       "    <tr>\n",
       "      <th>271</th>\n",
       "      <td>3421416680 3146147600 90926896</td>\n",
       "      <td>NaN</td>\n",
       "    </tr>\n",
       "    <tr>\n",
       "      <th>272</th>\n",
       "      <td>4047956041 3989459463 25399723</td>\n",
       "      <td>NaN</td>\n",
       "    </tr>\n",
       "    <tr>\n",
       "      <th>273</th>\n",
       "      <td>3367707747 3700678070 53708933</td>\n",
       "      <td>NaN</td>\n",
       "    </tr>\n",
       "    <tr>\n",
       "      <th>274</th>\n",
       "      <td>4073355764 3658307438 42370632</td>\n",
       "      <td>NaN</td>\n",
       "    </tr>\n",
       "    <tr>\n",
       "      <th>275</th>\n",
       "      <td>3193297949 4153156612 106313175</td>\n",
       "      <td>NaN</td>\n",
       "    </tr>\n",
       "  </tbody>\n",
       "</table>\n",
       "<p>276 rows × 2 columns</p>\n",
       "</div>"
      ],
      "text/plain": [
       "                                   0  \\\n",
       "0                              seeds   \n",
       "1                   seed-to-soil map   \n",
       "2     2025334497 3876763368 16729580   \n",
       "3     1877945250 2032519622 95086460   \n",
       "4              0 679167893 381174930   \n",
       "..                               ...   \n",
       "271   3421416680 3146147600 90926896   \n",
       "272   4047956041 3989459463 25399723   \n",
       "273   3367707747 3700678070 53708933   \n",
       "274   4073355764 3658307438 42370632   \n",
       "275  3193297949 4153156612 106313175   \n",
       "\n",
       "                                                     1  \n",
       "0     515785082 87905039 2104518691 503149843 72033...  \n",
       "1                                                  NaN  \n",
       "2                                                  NaN  \n",
       "3                                                  NaN  \n",
       "4                                                  NaN  \n",
       "..                                                 ...  \n",
       "271                                                NaN  \n",
       "272                                                NaN  \n",
       "273                                                NaN  \n",
       "274                                                NaN  \n",
       "275                                                NaN  \n",
       "\n",
       "[276 rows x 2 columns]"
      ]
     },
     "execution_count": 2,
     "metadata": {},
     "output_type": "execute_result"
    }
   ],
   "source": [
    "df = pd.read_csv(\"Day5.txt\",header=None, sep=':')\n",
    "df"
   ]
  },
  {
   "cell_type": "code",
   "execution_count": 3,
   "id": "17fa4d1d-cd68-4077-8f86-d97de92a87d0",
   "metadata": {},
   "outputs": [],
   "source": [
    "df[0] = df[0].apply(lambda x: x.split() if x[0].isdigit() else x)"
   ]
  },
  {
   "cell_type": "code",
   "execution_count": 4,
   "id": "d9251431-bf2b-420d-a910-e98a157341e6",
   "metadata": {},
   "outputs": [
    {
     "data": {
      "text/html": [
       "<div>\n",
       "<style scoped>\n",
       "    .dataframe tbody tr th:only-of-type {\n",
       "        vertical-align: middle;\n",
       "    }\n",
       "\n",
       "    .dataframe tbody tr th {\n",
       "        vertical-align: top;\n",
       "    }\n",
       "\n",
       "    .dataframe thead th {\n",
       "        text-align: right;\n",
       "    }\n",
       "</style>\n",
       "<table border=\"1\" class=\"dataframe\">\n",
       "  <thead>\n",
       "    <tr style=\"text-align: right;\">\n",
       "      <th></th>\n",
       "      <th>0</th>\n",
       "      <th>1</th>\n",
       "    </tr>\n",
       "  </thead>\n",
       "  <tbody>\n",
       "    <tr>\n",
       "      <th>0</th>\n",
       "      <td>seeds</td>\n",
       "      <td>515785082 87905039 2104518691 503149843 72033...</td>\n",
       "    </tr>\n",
       "    <tr>\n",
       "      <th>1</th>\n",
       "      <td>seed-to-soil map</td>\n",
       "      <td>NaN</td>\n",
       "    </tr>\n",
       "    <tr>\n",
       "      <th>2</th>\n",
       "      <td>[2025334497, 3876763368, 16729580]</td>\n",
       "      <td>NaN</td>\n",
       "    </tr>\n",
       "    <tr>\n",
       "      <th>3</th>\n",
       "      <td>[1877945250, 2032519622, 95086460]</td>\n",
       "      <td>NaN</td>\n",
       "    </tr>\n",
       "    <tr>\n",
       "      <th>4</th>\n",
       "      <td>[0, 679167893, 381174930]</td>\n",
       "      <td>NaN</td>\n",
       "    </tr>\n",
       "  </tbody>\n",
       "</table>\n",
       "</div>"
      ],
      "text/plain": [
       "                                    0  \\\n",
       "0                               seeds   \n",
       "1                    seed-to-soil map   \n",
       "2  [2025334497, 3876763368, 16729580]   \n",
       "3  [1877945250, 2032519622, 95086460]   \n",
       "4           [0, 679167893, 381174930]   \n",
       "\n",
       "                                                   1  \n",
       "0   515785082 87905039 2104518691 503149843 72033...  \n",
       "1                                                NaN  \n",
       "2                                                NaN  \n",
       "3                                                NaN  \n",
       "4                                                NaN  "
      ]
     },
     "execution_count": 4,
     "metadata": {},
     "output_type": "execute_result"
    }
   ],
   "source": [
    "df.head()"
   ]
  },
  {
   "cell_type": "code",
   "execution_count": 5,
   "id": "298f650e-db6e-4b16-bd70-60b00f60c307",
   "metadata": {},
   "outputs": [
    {
     "data": {
      "text/plain": [
       "['515785082',\n",
       " '87905039',\n",
       " '2104518691',\n",
       " '503149843',\n",
       " '720333403',\n",
       " '385234193',\n",
       " '1357904101',\n",
       " '283386167',\n",
       " '93533455',\n",
       " '128569683',\n",
       " '2844655470',\n",
       " '24994629',\n",
       " '3934515023',\n",
       " '67327818',\n",
       " '2655687716',\n",
       " '8403417',\n",
       " '3120497449',\n",
       " '107756881',\n",
       " '4055128129',\n",
       " '9498708']"
      ]
     },
     "execution_count": 5,
     "metadata": {},
     "output_type": "execute_result"
    }
   ],
   "source": [
    "list_seed = df.at[0,1].split()\n",
    "list_seed"
   ]
  },
  {
   "cell_type": "code",
   "execution_count": 6,
   "id": "5babd5fd-ad60-47b7-ae4c-8459edd7599f",
   "metadata": {},
   "outputs": [],
   "source": [
    "list_title = [x for x in df.iloc[1:,0] if x[0].isalpha()]\n",
    "dict_map = {}\n",
    "for i in range(0,len(list_title)-1):\n",
    "    idx1 = df.loc[df[0]==list_title[i],:].index[0]\n",
    "    idx2 = df.loc[df[0]==list_title[i+1],:].index[0]\n",
    "    dict_map[list_title[i]] = [x for x in df.iloc[idx1+1:idx2,0]]\n",
    "#dict_map"
   ]
  },
  {
   "cell_type": "code",
   "execution_count": 7,
   "id": "933c0fcd-0af5-46e9-8071-9d6621f09870",
   "metadata": {},
   "outputs": [
    {
     "name": "stderr",
     "output_type": "stream",
     "text": [
      "100%|████████████████████████████████████████████████████████████████████████████████| 20/20 [00:00<00:00, 2853.46it/s]\n"
     ]
    }
   ],
   "source": [
    "location = []\n",
    "for seed in tqdm(list_seed):\n",
    "    seed = int(seed)\n",
    "    #print('le seed est : ', seed)\n",
    "    for k in dict_map:\n",
    "        #print('xxxxxxxxxxxxxxxxx ',k)\n",
    "        out_ = 1.5\n",
    "        for interval in dict_map[k]:\n",
    "            #print('le seed intermédiaire est : ', seed)\n",
    "            #print('l\\'intervale est : ',[int(interval[1]), int(interval[1])+int(interval[2])])\n",
    "            if seed in range(int(interval[1]), (int(interval[1]) + int(interval[2]))):\n",
    "                #print('le seed est dans l\\'intervale : ',[int(interval[1]), int(interval[1])+int(interval[2])],'le step est : ',-int(interval[1]) + int(interval[0]))\n",
    "                out_ = seed - (int(interval[1]) - int(interval[0]))                \n",
    "            else:\n",
    "                continue\n",
    "        if out_==1.5:\n",
    "            out_ = seed\n",
    "        #print('le out_ est : ',out_)\n",
    "        seed = out_\n",
    "        \n",
    "    location.append(out_)"
   ]
  },
  {
   "cell_type": "code",
   "execution_count": 8,
   "id": "89db0aec-5818-467b-a2f9-8d9d7b130e5c",
   "metadata": {},
   "outputs": [
    {
     "data": {
      "text/plain": [
       "640121624"
      ]
     },
     "execution_count": 8,
     "metadata": {},
     "output_type": "execute_result"
    }
   ],
   "source": [
    "min(location)"
   ]
  }
 ],
 "metadata": {
  "kernelspec": {
   "display_name": "Python 3 (ipykernel)",
   "language": "python",
   "name": "python3"
  },
  "language_info": {
   "codemirror_mode": {
    "name": "ipython",
    "version": 3
   },
   "file_extension": ".py",
   "mimetype": "text/x-python",
   "name": "python",
   "nbconvert_exporter": "python",
   "pygments_lexer": "ipython3",
   "version": "3.9.13"
  }
 },
 "nbformat": 4,
 "nbformat_minor": 5
}
