{
 "cells": [
  {
   "cell_type": "code",
   "execution_count": 15,
   "id": "54c7f45d",
   "metadata": {
    "execution": {
     "iopub.execute_input": "2023-12-06T11:28:29.708217Z",
     "iopub.status.busy": "2023-12-06T11:28:29.707682Z",
     "iopub.status.idle": "2023-12-06T11:28:29.714862Z",
     "shell.execute_reply": "2023-12-06T11:28:29.713246Z",
     "shell.execute_reply.started": "2023-12-06T11:28:29.708179Z"
    }
   },
   "outputs": [],
   "source": [
    "import pandas as pd\n",
    "import numpy as np\n",
    "from tqdm import tqdm"
   ]
  },
  {
   "cell_type": "code",
   "execution_count": 16,
   "id": "d93a91f7",
   "metadata": {
    "execution": {
     "iopub.execute_input": "2023-12-06T11:28:29.722595Z",
     "iopub.status.busy": "2023-12-06T11:28:29.721867Z",
     "iopub.status.idle": "2023-12-06T11:28:29.743675Z",
     "shell.execute_reply": "2023-12-06T11:28:29.742354Z",
     "shell.execute_reply.started": "2023-12-06T11:28:29.722559Z"
    }
   },
   "outputs": [
    {
     "data": {
      "text/html": [
       "<div>\n",
       "<style scoped>\n",
       "    .dataframe tbody tr th:only-of-type {\n",
       "        vertical-align: middle;\n",
       "    }\n",
       "\n",
       "    .dataframe tbody tr th {\n",
       "        vertical-align: top;\n",
       "    }\n",
       "\n",
       "    .dataframe thead th {\n",
       "        text-align: right;\n",
       "    }\n",
       "</style>\n",
       "<table border=\"1\" class=\"dataframe\">\n",
       "  <thead>\n",
       "    <tr style=\"text-align: right;\">\n",
       "      <th></th>\n",
       "      <th>0</th>\n",
       "      <th>1</th>\n",
       "    </tr>\n",
       "  </thead>\n",
       "  <tbody>\n",
       "    <tr>\n",
       "      <th>0</th>\n",
       "      <td>seeds</td>\n",
       "      <td>79 14 55 13</td>\n",
       "    </tr>\n",
       "    <tr>\n",
       "      <th>1</th>\n",
       "      <td>seed-to-soil map</td>\n",
       "      <td>NaN</td>\n",
       "    </tr>\n",
       "    <tr>\n",
       "      <th>2</th>\n",
       "      <td>50 98 2</td>\n",
       "      <td>NaN</td>\n",
       "    </tr>\n",
       "    <tr>\n",
       "      <th>3</th>\n",
       "      <td>52 50 48</td>\n",
       "      <td>NaN</td>\n",
       "    </tr>\n",
       "    <tr>\n",
       "      <th>4</th>\n",
       "      <td>soil-to-fertilizer map</td>\n",
       "      <td>NaN</td>\n",
       "    </tr>\n",
       "    <tr>\n",
       "      <th>5</th>\n",
       "      <td>0 15 37</td>\n",
       "      <td>NaN</td>\n",
       "    </tr>\n",
       "    <tr>\n",
       "      <th>6</th>\n",
       "      <td>37 52 2</td>\n",
       "      <td>NaN</td>\n",
       "    </tr>\n",
       "    <tr>\n",
       "      <th>7</th>\n",
       "      <td>39 0 15</td>\n",
       "      <td>NaN</td>\n",
       "    </tr>\n",
       "    <tr>\n",
       "      <th>8</th>\n",
       "      <td>fertilizer-to-water map</td>\n",
       "      <td>NaN</td>\n",
       "    </tr>\n",
       "    <tr>\n",
       "      <th>9</th>\n",
       "      <td>49 53 8</td>\n",
       "      <td>NaN</td>\n",
       "    </tr>\n",
       "    <tr>\n",
       "      <th>10</th>\n",
       "      <td>0 11 42</td>\n",
       "      <td>NaN</td>\n",
       "    </tr>\n",
       "    <tr>\n",
       "      <th>11</th>\n",
       "      <td>42 0 7</td>\n",
       "      <td>NaN</td>\n",
       "    </tr>\n",
       "    <tr>\n",
       "      <th>12</th>\n",
       "      <td>57 7 4</td>\n",
       "      <td>NaN</td>\n",
       "    </tr>\n",
       "    <tr>\n",
       "      <th>13</th>\n",
       "      <td>water-to-light map</td>\n",
       "      <td>NaN</td>\n",
       "    </tr>\n",
       "    <tr>\n",
       "      <th>14</th>\n",
       "      <td>88 18 7</td>\n",
       "      <td>NaN</td>\n",
       "    </tr>\n",
       "    <tr>\n",
       "      <th>15</th>\n",
       "      <td>18 25 70</td>\n",
       "      <td>NaN</td>\n",
       "    </tr>\n",
       "    <tr>\n",
       "      <th>16</th>\n",
       "      <td>light-to-temperature map</td>\n",
       "      <td>NaN</td>\n",
       "    </tr>\n",
       "    <tr>\n",
       "      <th>17</th>\n",
       "      <td>45 77 23</td>\n",
       "      <td>NaN</td>\n",
       "    </tr>\n",
       "    <tr>\n",
       "      <th>18</th>\n",
       "      <td>81 45 19</td>\n",
       "      <td>NaN</td>\n",
       "    </tr>\n",
       "    <tr>\n",
       "      <th>19</th>\n",
       "      <td>68 64 13</td>\n",
       "      <td>NaN</td>\n",
       "    </tr>\n",
       "    <tr>\n",
       "      <th>20</th>\n",
       "      <td>temperature-to-humidity map</td>\n",
       "      <td>NaN</td>\n",
       "    </tr>\n",
       "    <tr>\n",
       "      <th>21</th>\n",
       "      <td>0 69 1</td>\n",
       "      <td>NaN</td>\n",
       "    </tr>\n",
       "    <tr>\n",
       "      <th>22</th>\n",
       "      <td>1 0 69</td>\n",
       "      <td>NaN</td>\n",
       "    </tr>\n",
       "    <tr>\n",
       "      <th>23</th>\n",
       "      <td>humidity-to-location map</td>\n",
       "      <td>NaN</td>\n",
       "    </tr>\n",
       "    <tr>\n",
       "      <th>24</th>\n",
       "      <td>60 56 37</td>\n",
       "      <td>NaN</td>\n",
       "    </tr>\n",
       "    <tr>\n",
       "      <th>25</th>\n",
       "      <td>56 93 4</td>\n",
       "      <td>NaN</td>\n",
       "    </tr>\n",
       "  </tbody>\n",
       "</table>\n",
       "</div>"
      ],
      "text/plain": [
       "                              0             1\n",
       "0                         seeds   79 14 55 13\n",
       "1              seed-to-soil map           NaN\n",
       "2                       50 98 2           NaN\n",
       "3                      52 50 48           NaN\n",
       "4        soil-to-fertilizer map           NaN\n",
       "5                       0 15 37           NaN\n",
       "6                       37 52 2           NaN\n",
       "7                       39 0 15           NaN\n",
       "8       fertilizer-to-water map           NaN\n",
       "9                       49 53 8           NaN\n",
       "10                      0 11 42           NaN\n",
       "11                       42 0 7           NaN\n",
       "12                       57 7 4           NaN\n",
       "13           water-to-light map           NaN\n",
       "14                      88 18 7           NaN\n",
       "15                     18 25 70           NaN\n",
       "16     light-to-temperature map           NaN\n",
       "17                     45 77 23           NaN\n",
       "18                     81 45 19           NaN\n",
       "19                     68 64 13           NaN\n",
       "20  temperature-to-humidity map           NaN\n",
       "21                       0 69 1           NaN\n",
       "22                       1 0 69           NaN\n",
       "23     humidity-to-location map           NaN\n",
       "24                     60 56 37           NaN\n",
       "25                      56 93 4           NaN"
      ]
     },
     "execution_count": 16,
     "metadata": {},
     "output_type": "execute_result"
    }
   ],
   "source": [
    "df = pd.read_csv(\"/kaggle/input/day5-sample/Day5_sample.txt\",header=None, sep=':')\n",
    "df"
   ]
  },
  {
   "cell_type": "code",
   "execution_count": 17,
   "id": "bd975e30",
   "metadata": {
    "execution": {
     "iopub.execute_input": "2023-12-06T11:28:29.746332Z",
     "iopub.status.busy": "2023-12-06T11:28:29.745925Z",
     "iopub.status.idle": "2023-12-06T11:28:29.756610Z",
     "shell.execute_reply": "2023-12-06T11:28:29.755306Z",
     "shell.execute_reply.started": "2023-12-06T11:28:29.746262Z"
    }
   },
   "outputs": [],
   "source": [
    "seed_df = pd.DataFrame()\n",
    "seed_df['seed_1'] = df.iloc[0,1].split()\n",
    "seed_df['seed_2'] = df.iloc[0,1].split()\n",
    "seed_df = seed_df.astype('int64')"
   ]
  },
  {
   "cell_type": "markdown",
   "id": "677afbc4",
   "metadata": {},
   "source": [
    "%%time\n",
    "# this way\n",
    "dict_map = {}\n",
    "for idx in tqdm(range(1, len(df))):\n",
    "    #print('idx :',idx)\n",
    "    if df.at[idx,0][0].isalpha():\n",
    "        dict_map[df.at[idx,0]]={}\n",
    "        i = 0\n",
    "        idx2 = idx + 1\n",
    "        #print('idx2 :',idx2)\n",
    "        try:\n",
    "            while df.at[idx2,0][0].isdigit():                \n",
    "                    list_row = [int(x) for x in df.at[idx2,0].split()]\n",
    "                    zip1 = list(range(list_row[1], list_row[1]+list_row[2]))\n",
    "                    zip2 = list(range(list_row[0], list_row[0]+list_row[2]))\n",
    "                    #print('dict_map avant: ',dict_map)\n",
    "                    #print('zip : ',{df.at[idx,0]:dict(zip(zip1,zip2))})\n",
    "                    # Fusionnez les deux dictionnaires\n",
    "                    for key, value in {df.at[idx,0]:dict(zip(zip1,zip2))}.items():\n",
    "                        dict_map[key] = {**dict_map[key],**value}\n",
    "                    #print('dict_map après:',dict_map)\n",
    "                    idx2 += 1\n",
    "        except:\n",
    "            break\n",
    "        #print(dict_map)\n"
   ]
  },
  {
   "cell_type": "code",
   "execution_count": null,
   "id": "71a92308",
   "metadata": {
    "execution": {
     "iopub.execute_input": "2023-12-06T11:28:29.758808Z",
     "iopub.status.busy": "2023-12-06T11:28:29.758244Z"
    }
   },
   "outputs": [],
   "source": [
    "%%time\n",
    "# that way\n",
    "dict_map = {}\n",
    "idx = 1\n",
    "\n",
    "while idx < len(df) and df.at[idx, 0][0].isalpha():\n",
    "    key = df.at[idx, 0]\n",
    "    dict_map[key] = {}\n",
    "    idx2 = idx + 1\n",
    "\n",
    "    while idx2 < len(df) and df.at[idx2, 0][0].isdigit():\n",
    "        list_row = [int(x) for x in df.at[idx2, 0].split()]\n",
    "        '''\n",
    "        zip1 = list(range(list_row[1], list_row[1] + list_row[2]))\n",
    "        zip2 = list(range(list_row[0], list_row[0] + list_row[2]))\n",
    "        dict_map[key].update(dict(zip(zip1, zip2)))\n",
    "        idx2 += 1\n",
    "        '''\n",
    "        # Supposez que list_row est déjà défini\n",
    "        # list_row = [start_value, end_value, step]\n",
    "\n",
    "        start_value1, end_value1, step1 = list_row[1], list_row[1] + list_row[2], 1\n",
    "        start_value2, end_value2, step2 = list_row[0], list_row[0] + list_row[2], 1\n",
    "\n",
    "        # Utilisez la fonction range directement dans update\n",
    "        dict_map[key].update({i: j for i, j in zip(range(start_value1, end_value1, step1), range(start_value2, end_value2, step2))})\n",
    "\n",
    "    idx += 1\n",
    "\n",
    "# Affichez le résultat final\n",
    "print(dict_map)"
   ]
  },
  {
   "cell_type": "markdown",
   "id": "1b488229",
   "metadata": {
    "execution": {
     "iopub.execute_input": "2023-12-06T11:26:13.304766Z",
     "iopub.status.busy": "2023-12-06T11:26:13.304100Z",
     "iopub.status.idle": "2023-12-06T11:26:13.317273Z",
     "shell.execute_reply": "2023-12-06T11:26:13.316375Z",
     "shell.execute_reply.started": "2023-12-06T11:26:13.304727Z"
    }
   },
   "source": [
    "# that other way\n",
    "# Extract the relevant columns outside the loop\n",
    "column_0 = df[0]\n",
    "column_1 = df[1]\n",
    "\n",
    "dict_map = {}\n",
    "idx = 1\n",
    "\n",
    "while idx < len(df) and column_0[idx][0].isalpha():\n",
    "    key = column_0[idx]\n",
    "    dict_map[key] = {}\n",
    "    idx2 = idx + 1\n",
    "\n",
    "    while idx2 < len(df) and column_0[idx2][0].isdigit():\n",
    "        list_row = [int(x) for x in column_0[idx2].split()]\n",
    "\n",
    "        start_value1, end_value1, step1 = list_row[1], list_row[1] + list_row[2], 1\n",
    "        start_value2, end_value2, step2 = list_row[0], list_row[0] + list_row[2], 1\n",
    "\n",
    "        dict_map[key].update({i: j for i, j in zip(range(start_value1, end_value1, step1), range(start_value2, end_value2, step2))})\n",
    "        idx2 += 1\n",
    "\n",
    "    idx += 1\n",
    "\n",
    "# Affichez le résultat final\n",
    "print(dict_map)"
   ]
  },
  {
   "cell_type": "markdown",
   "id": "19607dce",
   "metadata": {},
   "source": [
    "%%time\n",
    "# this way\n",
    "data_frame = {}\n",
    "for k in tqdm(dict_map):\n",
    "    data_frame[k] = pd.DataFrame(dict_map[k],index=[0]).T\n",
    "    #print(data_frame[k])"
   ]
  },
  {
   "cell_type": "code",
   "execution_count": null,
   "id": "a01f9145",
   "metadata": {},
   "outputs": [],
   "source": [
    "%%time\n",
    "# that way\n",
    "data_frame = {k: pd.DataFrame(v, index=[0]).T for k, v in dict_map.items()}"
   ]
  },
  {
   "cell_type": "code",
   "execution_count": null,
   "id": "166e411a",
   "metadata": {},
   "outputs": [],
   "source": [
    "for k in tqdm(dict_map):\n",
    "    data_frame[k] = data_frame[k].reset_index(drop=False)\n",
    "    col1 = f\"{k}{'_1'}\"\n",
    "    col2 = f\"{k}{'_2'}\"\n",
    "    data_frame[k][col1] = data_frame[k]['index']\n",
    "    data_frame[k][col2] = data_frame[k][0]\n",
    "    data_frame[k].drop(columns=['index',0], inplace=True)"
   ]
  },
  {
   "cell_type": "code",
   "execution_count": null,
   "id": "647892e3",
   "metadata": {},
   "outputs": [],
   "source": [
    "seed_df"
   ]
  },
  {
   "cell_type": "code",
   "execution_count": null,
   "id": "1ef5d2be",
   "metadata": {},
   "outputs": [],
   "source": [
    "dict_map = {**{'seed_to_seed': seed_df}, **dict_map}"
   ]
  },
  {
   "cell_type": "code",
   "execution_count": null,
   "id": "88a138c5",
   "metadata": {},
   "outputs": [],
   "source": [
    "dict_map.keys()"
   ]
  },
  {
   "cell_type": "code",
   "execution_count": null,
   "id": "9e70ea18",
   "metadata": {},
   "outputs": [],
   "source": [
    "data_frame = {**{'seed_to_seed': seed_df}, **data_frame}"
   ]
  },
  {
   "cell_type": "code",
   "execution_count": null,
   "id": "a7c8f661",
   "metadata": {},
   "outputs": [],
   "source": [
    "data_frame['seed-to-soil map'].head(2)"
   ]
  },
  {
   "cell_type": "code",
   "execution_count": null,
   "id": "1691ac13",
   "metadata": {},
   "outputs": [],
   "source": [
    "df"
   ]
  },
  {
   "cell_type": "code",
   "execution_count": null,
   "id": "c590c812",
   "metadata": {},
   "outputs": [],
   "source": [
    "result = data_frame[list(dict_map.keys())[0]]\n",
    "for i in tqdm(range(1,len(dict_map))):\n",
    "    # Fusionnez le DataFrame sur sa colonne 'key' avec l'autre DataFrame sur son index\n",
    "    df1 = result#data_frame[list(dict_map.keys())[i]]\n",
    "    df2 = data_frame[list(dict_map.keys())[i]]\n",
    "    #print('result before : ',result)\n",
    "    #print('df1 : ',df1)\n",
    "    result = pd.merge(df1, df2, how='left',left_on=str(result.columns[-1]), right_on=str(df2.columns[0]))\n",
    "    print('result before : ',result.head(5))\n",
    "    for i  in result.index:\n",
    "          #print('result.iloc[i,-1]', result.iloc[i,-1])                      \n",
    "        if result.iloc[i,-1] != result.iloc[i,-1]:\n",
    "            #print('result.iloc[i,-1] NaN détecté')\n",
    "            result.iloc[i,-1] = result.iloc[i,-3]\n",
    "            #print('result.iloc[i,-1] changé en : ', result.iloc[i,-1])\n",
    "            \n",
    "    print('result after : ',result.head())\n",
    "# Affichez le résultat\n",
    "result = pd.DataFrame(result)\n",
    "#result.columns"
   ]
  },
  {
   "cell_type": "code",
   "execution_count": null,
   "id": "fa54c5d3",
   "metadata": {},
   "outputs": [],
   "source": [
    "min(result.iloc[:,-1])"
   ]
  }
 ],
 "metadata": {
  "kaggle": {
   "accelerator": "none",
   "dataSources": [
    {
     "datasetId": 4118590,
     "sourceId": 7137184,
     "sourceType": "datasetVersion"
    },
    {
     "datasetId": 4118889,
     "sourceId": 7137560,
     "sourceType": "datasetVersion"
    }
   ],
   "dockerImageVersionId": 30587,
   "isGpuEnabled": false,
   "isInternetEnabled": true,
   "language": "python",
   "sourceType": "notebook"
  },
  "kernelspec": {
   "display_name": "Python 3 (ipykernel)",
   "language": "python",
   "name": "python3"
  },
  "language_info": {
   "codemirror_mode": {
    "name": "ipython",
    "version": 3
   },
   "file_extension": ".py",
   "mimetype": "text/x-python",
   "name": "python",
   "nbconvert_exporter": "python",
   "pygments_lexer": "ipython3",
   "version": "3.9.13"
  }
 },
 "nbformat": 4,
 "nbformat_minor": 5
}
